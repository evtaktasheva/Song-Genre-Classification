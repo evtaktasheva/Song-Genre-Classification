{
  "nbformat": 4,
  "nbformat_minor": 0,
  "metadata": {
    "kernelspec": {
      "display_name": "Python 3",
      "language": "python",
      "name": "python3"
    },
    "language_info": {
      "codemirror_mode": {
        "name": "ipython",
        "version": 3
      },
      "file_extension": ".py",
      "mimetype": "text/x-python",
      "name": "python",
      "nbconvert_exporter": "python",
      "pygments_lexer": "ipython3",
      "version": "3.7.6"
    },
    "colab": {
      "name": "2_features.ipynb",
      "provenance": [],
      "include_colab_link": true
    }
  },
  "cells": [
    {
      "cell_type": "markdown",
      "metadata": {
        "id": "view-in-github",
        "colab_type": "text"
      },
      "source": [
        "<a href=\"https://colab.research.google.com/github/evtaktasheva/Song-Genre-Classification/blob/main/2_features.ipynb\" target=\"_parent\"><img src=\"https://colab.research.google.com/assets/colab-badge.svg\" alt=\"Open In Colab\"/></a>"
      ]
    },
    {
      "cell_type": "markdown",
      "metadata": {
        "id": "ddNwReZy8HLu"
      },
      "source": [
        "# Song Genre Classification\n",
        "## Part 2: Feature Extraction\n",
        "- <code>Syntactic information:</code>\n",
        "    - **mean tree depth:** mean depth of the longest path from root to any leaf\n",
        "- <code>Surface information:</code>\n",
        "    - **length:** lyrics' length in words\n",
        "    - **mean line lenth:** mean length of each line in a song\n",
        "- <code>Semantic information:</code>\n",
        "    - **swear words:** 0/1 value if song lyrics contain profanities\n",
        "    - **NER:** persentage of named entities in song lyrics\n",
        "    - **type-token ratio:** percentage of unique words in songs' vocabulary (unique words/all words)\n",
        "    - **n-fram ratio:** percentage of unique n-grams in songs' vocabulary unique n-grams/all n-grams, where $n \\leq 3$\n",
        "    - **slang:** percentage of slang words in song lyrics\n",
        "    - **pronouns:** egocenticity of the text (*1-to-2* person, *1sg-to-other* person)\n",
        "    - **pos:** persentage of NOUNs, VERBs, ADJectives and PRONouns in a song (actions vs. feelings)"
      ]
    },
    {
      "cell_type": "code",
      "metadata": {
        "id": "lh2PmL338HLx"
      },
      "source": [
        "import pandas as pd\n",
        "import numpy as np\n",
        "from conllu import parse\n",
        "from ufal.udpipe import Model, Pipeline\n",
        "from tqdm.auto import tqdm\n",
        "import matplotlib.pyplot as plt"
      ],
      "execution_count": null,
      "outputs": []
    },
    {
      "cell_type": "code",
      "metadata": {
        "id": "m1oczog18HLy"
      },
      "source": [
        "data = pd.read_csv('./data/final_data.csv')  # Preprocessed dataset"
      ],
      "execution_count": null,
      "outputs": []
    },
    {
      "cell_type": "code",
      "metadata": {
        "id": "ZTH-U8mp8HLz",
        "outputId": "209c4121-e462-45be-dc1c-9ed39dc13481"
      },
      "source": [
        "data"
      ],
      "execution_count": null,
      "outputs": [
        {
          "output_type": "execute_result",
          "data": {
            "text/html": [
              "<div>\n",
              "<style scoped>\n",
              "    .dataframe tbody tr th:only-of-type {\n",
              "        vertical-align: middle;\n",
              "    }\n",
              "\n",
              "    .dataframe tbody tr th {\n",
              "        vertical-align: top;\n",
              "    }\n",
              "\n",
              "    .dataframe thead th {\n",
              "        text-align: right;\n",
              "    }\n",
              "</style>\n",
              "<table border=\"1\" class=\"dataframe\">\n",
              "  <thead>\n",
              "    <tr style=\"text-align: right;\">\n",
              "      <th></th>\n",
              "      <th>subset</th>\n",
              "      <th>author</th>\n",
              "      <th>song</th>\n",
              "      <th>lyrics</th>\n",
              "      <th>genre</th>\n",
              "      <th>tokenized</th>\n",
              "      <th>length</th>\n",
              "    </tr>\n",
              "  </thead>\n",
              "  <tbody>\n",
              "    <tr>\n",
              "      <th>0</th>\n",
              "      <td>tr</td>\n",
              "      <td>bob dylan</td>\n",
              "      <td>Black Cross (Live)</td>\n",
              "      <td>This is the story of Hezekiah Jones...\\n\\nHeze...</td>\n",
              "      <td>Folk</td>\n",
              "      <td>This is the story of Hezekiah Jones ... \\n\\n H...</td>\n",
              "      <td>144</td>\n",
              "    </tr>\n",
              "    <tr>\n",
              "      <th>1</th>\n",
              "      <td>tr</td>\n",
              "      <td>isaiah rashad</td>\n",
              "      <td>unk174</td>\n",
              "      <td>My niggas die for it, she got that pussy juice...</td>\n",
              "      <td>Rap</td>\n",
              "      <td>My niggas die for it , she got that pussy juic...</td>\n",
              "      <td>107</td>\n",
              "    </tr>\n",
              "    <tr>\n",
              "      <th>2</th>\n",
              "      <td>tr</td>\n",
              "      <td>jamie lawson</td>\n",
              "      <td>a darkness</td>\n",
              "      <td>there 's a darkness in between us , a darkness...</td>\n",
              "      <td>Pop</td>\n",
              "      <td>there 's a darkness in between us , a darkness...</td>\n",
              "      <td>363</td>\n",
              "    </tr>\n",
              "    <tr>\n",
              "      <th>3</th>\n",
              "      <td>tr</td>\n",
              "      <td>aap rock</td>\n",
              "      <td>unk83</td>\n",
              "      <td>Tell me why these little niggas talking like t...</td>\n",
              "      <td>Rap</td>\n",
              "      <td>Tell me why these little niggas talking like t...</td>\n",
              "      <td>110</td>\n",
              "    </tr>\n",
              "    <tr>\n",
              "      <th>4</th>\n",
              "      <td>tr</td>\n",
              "      <td>pointer sisters, the</td>\n",
              "      <td>shut up and dance</td>\n",
              "      <td>hey you , you wanna dance ? , all i want to do...</td>\n",
              "      <td>Pop</td>\n",
              "      <td>hey you , you wanna dance ? , all i want to do...</td>\n",
              "      <td>508</td>\n",
              "    </tr>\n",
              "    <tr>\n",
              "      <th>...</th>\n",
              "      <td>...</td>\n",
              "      <td>...</td>\n",
              "      <td>...</td>\n",
              "      <td>...</td>\n",
              "      <td>...</td>\n",
              "      <td>...</td>\n",
              "      <td>...</td>\n",
              "    </tr>\n",
              "    <tr>\n",
              "      <th>20578</th>\n",
              "      <td>va</td>\n",
              "      <td>roy rogers &amp; dale evans</td>\n",
              "      <td>Cool Water</td>\n",
              "      <td>Cool Water\\nAll day I faced the barren waste\\n...</td>\n",
              "      <td>Blues</td>\n",
              "      <td>Cool Water \\n All day I faced the barren waste...</td>\n",
              "      <td>72</td>\n",
              "    </tr>\n",
              "    <tr>\n",
              "      <th>20579</th>\n",
              "      <td>va</td>\n",
              "      <td>roy rogers &amp; dale evans</td>\n",
              "      <td>Home on the Range</td>\n",
              "      <td>Oh, give me a home where the buffalo roam\\nWhe...</td>\n",
              "      <td>Blues</td>\n",
              "      <td>Oh , give me a home where the buffalo roam \\n ...</td>\n",
              "      <td>61</td>\n",
              "    </tr>\n",
              "    <tr>\n",
              "      <th>20580</th>\n",
              "      <td>va</td>\n",
              "      <td>roy rogers &amp; dale evans</td>\n",
              "      <td>Remember Whose Birthday It Is / Happy Birthday...</td>\n",
              "      <td>Happy birthday to you ...\\nThis is for you\\nI ...</td>\n",
              "      <td>Blues</td>\n",
              "      <td>Happy birthday to you ... \\n This is for you \\...</td>\n",
              "      <td>22</td>\n",
              "    </tr>\n",
              "    <tr>\n",
              "      <th>20581</th>\n",
              "      <td>va</td>\n",
              "      <td>roy rogers &amp; dale evans</td>\n",
              "      <td>Happy Trails</td>\n",
              "      <td>Happy trails to you, until we meet again\\nHapp...</td>\n",
              "      <td>Blues</td>\n",
              "      <td>Happy trails to you , until we meet again \\n H...</td>\n",
              "      <td>49</td>\n",
              "    </tr>\n",
              "    <tr>\n",
              "      <th>20582</th>\n",
              "      <td>va</td>\n",
              "      <td>roy rogers &amp; dale evans</td>\n",
              "      <td>Cool Water</td>\n",
              "      <td>Cool Water\\nAll day I faced the barren waste\\n...</td>\n",
              "      <td>Blues</td>\n",
              "      <td>Cool Water \\n All day I faced the barren waste...</td>\n",
              "      <td>72</td>\n",
              "    </tr>\n",
              "  </tbody>\n",
              "</table>\n",
              "<p>20583 rows × 7 columns</p>\n",
              "</div>"
            ],
            "text/plain": [
              "      subset                   author  \\\n",
              "0         tr                bob dylan   \n",
              "1         tr            isaiah rashad   \n",
              "2         tr             jamie lawson   \n",
              "3         tr                 aap rock   \n",
              "4         tr     pointer sisters, the   \n",
              "...      ...                      ...   \n",
              "20578     va  roy rogers & dale evans   \n",
              "20579     va  roy rogers & dale evans   \n",
              "20580     va  roy rogers & dale evans   \n",
              "20581     va  roy rogers & dale evans   \n",
              "20582     va  roy rogers & dale evans   \n",
              "\n",
              "                                                    song  \\\n",
              "0                                     Black Cross (Live)   \n",
              "1                                                 unk174   \n",
              "2                                             a darkness   \n",
              "3                                                  unk83   \n",
              "4                                      shut up and dance   \n",
              "...                                                  ...   \n",
              "20578                                         Cool Water   \n",
              "20579                                  Home on the Range   \n",
              "20580  Remember Whose Birthday It Is / Happy Birthday...   \n",
              "20581                                       Happy Trails   \n",
              "20582                                         Cool Water   \n",
              "\n",
              "                                                  lyrics  genre  \\\n",
              "0      This is the story of Hezekiah Jones...\\n\\nHeze...   Folk   \n",
              "1      My niggas die for it, she got that pussy juice...    Rap   \n",
              "2      there 's a darkness in between us , a darkness...    Pop   \n",
              "3      Tell me why these little niggas talking like t...    Rap   \n",
              "4      hey you , you wanna dance ? , all i want to do...    Pop   \n",
              "...                                                  ...    ...   \n",
              "20578  Cool Water\\nAll day I faced the barren waste\\n...  Blues   \n",
              "20579  Oh, give me a home where the buffalo roam\\nWhe...  Blues   \n",
              "20580  Happy birthday to you ...\\nThis is for you\\nI ...  Blues   \n",
              "20581  Happy trails to you, until we meet again\\nHapp...  Blues   \n",
              "20582  Cool Water\\nAll day I faced the barren waste\\n...  Blues   \n",
              "\n",
              "                                               tokenized  length  \n",
              "0      This is the story of Hezekiah Jones ... \\n\\n H...     144  \n",
              "1      My niggas die for it , she got that pussy juic...     107  \n",
              "2      there 's a darkness in between us , a darkness...     363  \n",
              "3      Tell me why these little niggas talking like t...     110  \n",
              "4      hey you , you wanna dance ? , all i want to do...     508  \n",
              "...                                                  ...     ...  \n",
              "20578  Cool Water \\n All day I faced the barren waste...      72  \n",
              "20579  Oh , give me a home where the buffalo roam \\n ...      61  \n",
              "20580  Happy birthday to you ... \\n This is for you \\...      22  \n",
              "20581  Happy trails to you , until we meet again \\n H...      49  \n",
              "20582  Cool Water \\n All day I faced the barren waste...      72  \n",
              "\n",
              "[20583 rows x 7 columns]"
            ]
          },
          "metadata": {
            "tags": []
          },
          "execution_count": 4
        }
      ]
    },
    {
      "cell_type": "markdown",
      "metadata": {
        "id": "E094sdJq8HLz"
      },
      "source": [
        "## 1. Tree depth"
      ]
    },
    {
      "cell_type": "code",
      "metadata": {
        "id": "Z7WfLMb_8HL0"
      },
      "source": [
        "UDPIPE_MODEL_FN = \"model_ru.udpipe\"\n",
        "!wget -O {UDPIPE_MODEL_FN} https://github.com/jwijffels/udpipe.models.ud.2.0/blob/master/inst/udpipe-ud-2.0-170801/english-ud-2.0-170801.udpipe?raw=true"
      ],
      "execution_count": null,
      "outputs": []
    },
    {
      "cell_type": "code",
      "metadata": {
        "id": "sjX956ld8HL0"
      },
      "source": [
        "model = Model.load(UDPIPE_MODEL_FN)"
      ],
      "execution_count": null,
      "outputs": []
    },
    {
      "cell_type": "code",
      "metadata": {
        "id": "YFHWCe0y8HL1"
      },
      "source": [
        "# Just an example to show how it looks like\n",
        "pipeline = Pipeline(model, 'generic_tokenizer', '', '', '')\n",
        "example = \"If I were a sailboat I would sail you to the shore.\"\n",
        "text_analysis_str = pipeline.process(example)"
      ],
      "execution_count": null,
      "outputs": []
    },
    {
      "cell_type": "code",
      "metadata": {
        "id": "dwyllTSR8HL1"
      },
      "source": [
        "!pip install udapi"
      ],
      "execution_count": null,
      "outputs": []
    },
    {
      "cell_type": "code",
      "metadata": {
        "id": "vX4SjRUh8HL2"
      },
      "source": [
        "from udapi.block.read.conllu import Conllu\n",
        "from udapi.block.write.textmodetrees import TextModeTrees\n",
        "from io import StringIO\n",
        "\n",
        "\n",
        "def tree_depth(tree):\n",
        "    ''' \n",
        "    Function takes Conllu tree as an input \n",
        "    and counts the number of children \n",
        "    for the root node.\n",
        "    '''\n",
        "    \n",
        "    depth = 0   # Create counter\n",
        "    stack = [tree]  # Create list of elements\n",
        "    while (len(stack)):  # Count depths\n",
        "        curr_node = stack[0]\n",
        "        stack.pop(0)\n",
        "        if curr_node.children:\n",
        "            depth += 1\n",
        "        for node in range(len(curr_node.children) -1, -1, -1):\n",
        "            stack.insert(0, curr_node.children[node])\n",
        "    return depth\n",
        "\n",
        "\n",
        "def get_depth(sentence):\n",
        "    '''\n",
        "    Takes sentence in a string format as an input\n",
        "    and returns the syntactic tree depth for the sentence.\n",
        "    '''\n",
        "\n",
        "    tree = Conllu(filehandle=StringIO(sentence)).read_tree()\n",
        "    return tree_depth(tree)"
      ],
      "execution_count": null,
      "outputs": []
    },
    {
      "cell_type": "code",
      "metadata": {
        "id": "F3E6i7CM8HL3"
      },
      "source": [
        "def mean_depth(song):\n",
        "    '''\n",
        "    Takes song lyrics in string format as an input \n",
        "    and returns the average syntactic tree depth of its sentence.\n",
        "    '''\n",
        "    \n",
        "    song = song.replace('\\\\', '')\n",
        "    all_sentences = [pipeline.process(sent) for sent in tokenize.sent_tokenize(song)]\n",
        "    all_depths = [get_depth(i) for i in all_sentences]\n",
        "    return np.mean(all_depths)"
      ],
      "execution_count": null,
      "outputs": []
    },
    {
      "cell_type": "code",
      "metadata": {
        "id": "e1AQSu1l8HL4"
      },
      "source": [
        "depths = []  # List for all average tree depths"
      ],
      "execution_count": null,
      "outputs": []
    },
    {
      "cell_type": "code",
      "metadata": {
        "id": "zJtg_OwU8HL4"
      },
      "source": [
        "for line in tqdm(data['lyrics'], total=45437):  # For each song count tree depth\n",
        "    if type(line) != str:\n",
        "        depths.append(None)\n",
        "        continue       \n",
        "    try:  # In case the text is too long and has no punctuation\n",
        "        depths.append(mean_depth(line))\n",
        "    except:\n",
        "        depths.append(None)"
      ],
      "execution_count": null,
      "outputs": []
    },
    {
      "cell_type": "code",
      "metadata": {
        "id": "OE-Y7VdE8HL5"
      },
      "source": [
        "data['tree_depth'] = depths  # Update the dataset"
      ],
      "execution_count": null,
      "outputs": []
    },
    {
      "cell_type": "code",
      "metadata": {
        "id": "e6UXw4jI8HL6",
        "outputId": "ebb00f90-000b-4ff4-b50f-143fcb1290ca"
      },
      "source": [
        "data.head()"
      ],
      "execution_count": null,
      "outputs": [
        {
          "output_type": "execute_result",
          "data": {
            "text/html": [
              "<div>\n",
              "<style scoped>\n",
              "    .dataframe tbody tr th:only-of-type {\n",
              "        vertical-align: middle;\n",
              "    }\n",
              "\n",
              "    .dataframe tbody tr th {\n",
              "        vertical-align: top;\n",
              "    }\n",
              "\n",
              "    .dataframe thead th {\n",
              "        text-align: right;\n",
              "    }\n",
              "</style>\n",
              "<table border=\"1\" class=\"dataframe\">\n",
              "  <thead>\n",
              "    <tr style=\"text-align: right;\">\n",
              "      <th></th>\n",
              "      <th>subset</th>\n",
              "      <th>author</th>\n",
              "      <th>song</th>\n",
              "      <th>genre</th>\n",
              "      <th>lyrics</th>\n",
              "      <th>tokenized</th>\n",
              "      <th>length</th>\n",
              "      <th>tree_depth</th>\n",
              "    </tr>\n",
              "  </thead>\n",
              "  <tbody>\n",
              "    <tr>\n",
              "      <th>0</th>\n",
              "      <td>tr</td>\n",
              "      <td>bob dylan</td>\n",
              "      <td>Black Cross (Live)</td>\n",
              "      <td>Folk</td>\n",
              "      <td>This is the story of Hezekiah Jones...\\n\\nHeze...</td>\n",
              "      <td>This is the story of Hezekiah Jones ... \\n\\n H...</td>\n",
              "      <td>144</td>\n",
              "      <td>8.000000</td>\n",
              "    </tr>\n",
              "    <tr>\n",
              "      <th>1</th>\n",
              "      <td>tr</td>\n",
              "      <td>isaiah rashad</td>\n",
              "      <td>unk174</td>\n",
              "      <td>Rap</td>\n",
              "      <td>My niggas die for it, she got that pussy juice...</td>\n",
              "      <td>My niggas die for it , she got that pussy juic...</td>\n",
              "      <td>107</td>\n",
              "      <td>44.000000</td>\n",
              "    </tr>\n",
              "    <tr>\n",
              "      <th>2</th>\n",
              "      <td>tr</td>\n",
              "      <td>jamie lawson</td>\n",
              "      <td>a darkness</td>\n",
              "      <td>Pop</td>\n",
              "      <td>there 's a darkness in between us , a darkness...</td>\n",
              "      <td>there 's a darkness in between us , a darkness...</td>\n",
              "      <td>363</td>\n",
              "      <td>117.000000</td>\n",
              "    </tr>\n",
              "    <tr>\n",
              "      <th>3</th>\n",
              "      <td>tr</td>\n",
              "      <td>aap rock</td>\n",
              "      <td>unk83</td>\n",
              "      <td>Rap</td>\n",
              "      <td>Tell me why these little niggas talking like t...</td>\n",
              "      <td>Tell me why these little niggas talking like t...</td>\n",
              "      <td>110</td>\n",
              "      <td>19.000000</td>\n",
              "    </tr>\n",
              "    <tr>\n",
              "      <th>4</th>\n",
              "      <td>tr</td>\n",
              "      <td>pointer sisters, the</td>\n",
              "      <td>shut up and dance</td>\n",
              "      <td>Pop</td>\n",
              "      <td>hey you , you wanna dance ? , all i want to do...</td>\n",
              "      <td>hey you , you wanna dance ? , all i want to do...</td>\n",
              "      <td>508</td>\n",
              "      <td>15.538462</td>\n",
              "    </tr>\n",
              "  </tbody>\n",
              "</table>\n",
              "</div>"
            ],
            "text/plain": [
              "  subset                author                song genre  \\\n",
              "0     tr             bob dylan  Black Cross (Live)  Folk   \n",
              "1     tr         isaiah rashad              unk174   Rap   \n",
              "2     tr          jamie lawson          a darkness   Pop   \n",
              "3     tr              aap rock               unk83   Rap   \n",
              "4     tr  pointer sisters, the   shut up and dance   Pop   \n",
              "\n",
              "                                              lyrics  \\\n",
              "0  This is the story of Hezekiah Jones...\\n\\nHeze...   \n",
              "1  My niggas die for it, she got that pussy juice...   \n",
              "2  there 's a darkness in between us , a darkness...   \n",
              "3  Tell me why these little niggas talking like t...   \n",
              "4  hey you , you wanna dance ? , all i want to do...   \n",
              "\n",
              "                                           tokenized  length  tree_depth  \n",
              "0  This is the story of Hezekiah Jones ... \\n\\n H...     144    8.000000  \n",
              "1  My niggas die for it , she got that pussy juic...     107   44.000000  \n",
              "2  there 's a darkness in between us , a darkness...     363  117.000000  \n",
              "3  Tell me why these little niggas talking like t...     110   19.000000  \n",
              "4  hey you , you wanna dance ? , all i want to do...     508   15.538462  "
            ]
          },
          "metadata": {
            "tags": []
          },
          "execution_count": 13
        }
      ]
    },
    {
      "cell_type": "markdown",
      "metadata": {
        "id": "2gCo4YcA8HL6"
      },
      "source": [
        "## 2. POS tags"
      ]
    },
    {
      "cell_type": "code",
      "metadata": {
        "id": "xXL4sHCQ8HL7"
      },
      "source": [
        "import nltk\n",
        "nltk.download('punkt')\n",
        "nltk.download('averaged_perceptron_tagger')\n",
        "from nltk.tag import pos_tag\n",
        "from nltk.tokenize import word_tokenize\n",
        "from collections import Counter\n",
        "\n",
        "\n",
        "pos_counts = []  # List for POS-tags count\n",
        "for text in tqdm(data['lyrics']):  # For each song count POS\n",
        "    pos_count = Counter([j for i,j in pos_tag(word_tokenize(text))])  # POS-tag counter\n",
        "    # List of NOUN, VERB, AJECTIVE and PRONOUN counts\n",
        "    vector = [pos_count['NN'], pos_count['VB'], pos_count['JJ'], pos_count['PRP']] \n",
        "    pos_counts.append(np.array(vector))"
      ],
      "execution_count": null,
      "outputs": []
    },
    {
      "cell_type": "code",
      "metadata": {
        "id": "sY0nB7RH8HL8"
      },
      "source": [
        "data['pos_count'] = pos_counts  # Update the dataset"
      ],
      "execution_count": null,
      "outputs": []
    },
    {
      "cell_type": "code",
      "metadata": {
        "id": "IsxKoC958HL8"
      },
      "source": [
        "# Then we've decided to transform one vector feature into four numeric features\n",
        "\n",
        "def split_pos(data):\n",
        "    '''\n",
        "    The function takes the dataframe as an input\n",
        "    and transforms POS column into four columns.\n",
        "    '''\n",
        "\n",
        "    columns = data.columns.tolist()\n",
        "    columns.remove('pos_count')\n",
        "    new = []\n",
        "    for ind, sent in tqdm(data.iterrows(), total=len(data)):\n",
        "        song = []\n",
        "        for i in columns:\n",
        "            song.append(sent[i])\n",
        "        song.extend(sent['pos_count'].strip('[]').split())   \n",
        "        new.append(song)\n",
        "    columns.extend(['NOUN', 'VERB', 'ADJ', 'PRON'])\n",
        "    return pd.DataFrame(new, columns=columns)"
      ],
      "execution_count": null,
      "outputs": []
    },
    {
      "cell_type": "code",
      "metadata": {
        "id": "qgx6RrmU8HL8"
      },
      "source": [
        "data = split_pos(data)  # Transform the dataset"
      ],
      "execution_count": null,
      "outputs": []
    },
    {
      "cell_type": "code",
      "metadata": {
        "id": "G8WIk6IF8HL9",
        "outputId": "7611ff99-432b-45ae-a366-6e81f3db4cd4"
      },
      "source": [
        "data.head()"
      ],
      "execution_count": null,
      "outputs": [
        {
          "output_type": "execute_result",
          "data": {
            "text/html": [
              "<div>\n",
              "<style scoped>\n",
              "    .dataframe tbody tr th:only-of-type {\n",
              "        vertical-align: middle;\n",
              "    }\n",
              "\n",
              "    .dataframe tbody tr th {\n",
              "        vertical-align: top;\n",
              "    }\n",
              "\n",
              "    .dataframe thead th {\n",
              "        text-align: right;\n",
              "    }\n",
              "</style>\n",
              "<table border=\"1\" class=\"dataframe\">\n",
              "  <thead>\n",
              "    <tr style=\"text-align: right;\">\n",
              "      <th></th>\n",
              "      <th>subset</th>\n",
              "      <th>author</th>\n",
              "      <th>song</th>\n",
              "      <th>genre</th>\n",
              "      <th>lyrics</th>\n",
              "      <th>tokenized</th>\n",
              "      <th>length</th>\n",
              "      <th>tree_depth</th>\n",
              "      <th>NOUN</th>\n",
              "      <th>VERB</th>\n",
              "      <th>ADJ</th>\n",
              "      <th>PRON</th>\n",
              "    </tr>\n",
              "  </thead>\n",
              "  <tbody>\n",
              "    <tr>\n",
              "      <th>0</th>\n",
              "      <td>tr</td>\n",
              "      <td>bob dylan</td>\n",
              "      <td>Black Cross (Live)</td>\n",
              "      <td>Folk</td>\n",
              "      <td>This is the story of Hezekiah Jones...\\n\\nHeze...</td>\n",
              "      <td>This is the story of Hezekiah Jones ... \\n\\n H...</td>\n",
              "      <td>144</td>\n",
              "      <td>8.000000</td>\n",
              "      <td>12</td>\n",
              "      <td>2</td>\n",
              "      <td>8</td>\n",
              "      <td>19</td>\n",
              "    </tr>\n",
              "    <tr>\n",
              "      <th>1</th>\n",
              "      <td>tr</td>\n",
              "      <td>isaiah rashad</td>\n",
              "      <td>unk174</td>\n",
              "      <td>Rap</td>\n",
              "      <td>My niggas die for it, she got that pussy juice...</td>\n",
              "      <td>My niggas die for it , she got that pussy juic...</td>\n",
              "      <td>107</td>\n",
              "      <td>44.000000</td>\n",
              "      <td>21</td>\n",
              "      <td>8</td>\n",
              "      <td>5</td>\n",
              "      <td>16</td>\n",
              "    </tr>\n",
              "    <tr>\n",
              "      <th>2</th>\n",
              "      <td>tr</td>\n",
              "      <td>jamie lawson</td>\n",
              "      <td>a darkness</td>\n",
              "      <td>Pop</td>\n",
              "      <td>there 's a darkness in between us , a darkness...</td>\n",
              "      <td>there 's a darkness in between us , a darkness...</td>\n",
              "      <td>363</td>\n",
              "      <td>117.000000</td>\n",
              "      <td>61</td>\n",
              "      <td>21</td>\n",
              "      <td>14</td>\n",
              "      <td>27</td>\n",
              "    </tr>\n",
              "    <tr>\n",
              "      <th>3</th>\n",
              "      <td>tr</td>\n",
              "      <td>aap rock</td>\n",
              "      <td>unk83</td>\n",
              "      <td>Rap</td>\n",
              "      <td>Tell me why these little niggas talking like t...</td>\n",
              "      <td>Tell me why these little niggas talking like t...</td>\n",
              "      <td>110</td>\n",
              "      <td>19.000000</td>\n",
              "      <td>12</td>\n",
              "      <td>6</td>\n",
              "      <td>3</td>\n",
              "      <td>20</td>\n",
              "    </tr>\n",
              "    <tr>\n",
              "      <th>4</th>\n",
              "      <td>tr</td>\n",
              "      <td>pointer sisters, the</td>\n",
              "      <td>shut up and dance</td>\n",
              "      <td>Pop</td>\n",
              "      <td>hey you , you wanna dance ? , all i want to do...</td>\n",
              "      <td>hey you , you wanna dance ? , all i want to do...</td>\n",
              "      <td>508</td>\n",
              "      <td>15.538462</td>\n",
              "      <td>74</td>\n",
              "      <td>39</td>\n",
              "      <td>29</td>\n",
              "      <td>23</td>\n",
              "    </tr>\n",
              "  </tbody>\n",
              "</table>\n",
              "</div>"
            ],
            "text/plain": [
              "  subset                author                song genre  \\\n",
              "0     tr             bob dylan  Black Cross (Live)  Folk   \n",
              "1     tr         isaiah rashad              unk174   Rap   \n",
              "2     tr          jamie lawson          a darkness   Pop   \n",
              "3     tr              aap rock               unk83   Rap   \n",
              "4     tr  pointer sisters, the   shut up and dance   Pop   \n",
              "\n",
              "                                              lyrics  \\\n",
              "0  This is the story of Hezekiah Jones...\\n\\nHeze...   \n",
              "1  My niggas die for it, she got that pussy juice...   \n",
              "2  there 's a darkness in between us , a darkness...   \n",
              "3  Tell me why these little niggas talking like t...   \n",
              "4  hey you , you wanna dance ? , all i want to do...   \n",
              "\n",
              "                                           tokenized  length  tree_depth  \\\n",
              "0  This is the story of Hezekiah Jones ... \\n\\n H...     144    8.000000   \n",
              "1  My niggas die for it , she got that pussy juic...     107   44.000000   \n",
              "2  there 's a darkness in between us , a darkness...     363  117.000000   \n",
              "3  Tell me why these little niggas talking like t...     110   19.000000   \n",
              "4  hey you , you wanna dance ? , all i want to do...     508   15.538462   \n",
              "\n",
              "   NOUN  VERB  ADJ  PRON  \n",
              "0    12     2    8    19  \n",
              "1    21     8    5    16  \n",
              "2    61    21   14    27  \n",
              "3    12     6    3    20  \n",
              "4    74    39   29    23  "
            ]
          },
          "metadata": {
            "tags": []
          },
          "execution_count": 14
        }
      ]
    },
    {
      "cell_type": "markdown",
      "metadata": {
        "id": "wsmuC9UD8HL9"
      },
      "source": [
        "## 3. NER"
      ]
    },
    {
      "cell_type": "code",
      "metadata": {
        "id": "s8riFqB48HL-"
      },
      "source": [
        "import spacy\n",
        "from spacy import displacy\n",
        "import en_core_web_sm\n",
        "nlp = en_core_web_sm.load()"
      ],
      "execution_count": null,
      "outputs": []
    },
    {
      "cell_type": "code",
      "metadata": {
        "id": "5HB2MqFe8HL-"
      },
      "source": [
        "ne_ratio = []  # List for named entities \n",
        "for text in tqdm(data['lyrics']):  # For each song count\n",
        "    doc = nlp(text)  # Transform into doc object\n",
        "    names = len(doc.ents) / len([n.lemma_ for n in doc if not n.is_punct])  # Count the proportion of NE\n",
        "    ne_ratio.append(names)"
      ],
      "execution_count": null,
      "outputs": []
    },
    {
      "cell_type": "code",
      "metadata": {
        "id": "LXstMN128HL_"
      },
      "source": [
        "data['ne_ratio'] = ne_ratio  # Update the dataset"
      ],
      "execution_count": null,
      "outputs": []
    },
    {
      "cell_type": "code",
      "metadata": {
        "id": "RBa96bl98HL_",
        "outputId": "e990420c-e741-4601-ff3b-db2262d910f1"
      },
      "source": [
        "data.head()"
      ],
      "execution_count": null,
      "outputs": [
        {
          "output_type": "execute_result",
          "data": {
            "text/html": [
              "<div>\n",
              "<style scoped>\n",
              "    .dataframe tbody tr th:only-of-type {\n",
              "        vertical-align: middle;\n",
              "    }\n",
              "\n",
              "    .dataframe tbody tr th {\n",
              "        vertical-align: top;\n",
              "    }\n",
              "\n",
              "    .dataframe thead th {\n",
              "        text-align: right;\n",
              "    }\n",
              "</style>\n",
              "<table border=\"1\" class=\"dataframe\">\n",
              "  <thead>\n",
              "    <tr style=\"text-align: right;\">\n",
              "      <th></th>\n",
              "      <th>subset</th>\n",
              "      <th>author</th>\n",
              "      <th>song</th>\n",
              "      <th>genre</th>\n",
              "      <th>lyrics</th>\n",
              "      <th>tokenized</th>\n",
              "      <th>length</th>\n",
              "      <th>tree_depth</th>\n",
              "      <th>NOUN</th>\n",
              "      <th>VERB</th>\n",
              "      <th>ADJ</th>\n",
              "      <th>PRON</th>\n",
              "      <th>ne_ratio</th>\n",
              "    </tr>\n",
              "  </thead>\n",
              "  <tbody>\n",
              "    <tr>\n",
              "      <th>0</th>\n",
              "      <td>tr</td>\n",
              "      <td>bob dylan</td>\n",
              "      <td>Black Cross (Live)</td>\n",
              "      <td>Folk</td>\n",
              "      <td>This is the story of Hezekiah Jones...\\n\\nHeze...</td>\n",
              "      <td>This is the story of Hezekiah Jones ... \\n\\n H...</td>\n",
              "      <td>144</td>\n",
              "      <td>8.000000</td>\n",
              "      <td>12</td>\n",
              "      <td>2</td>\n",
              "      <td>8</td>\n",
              "      <td>19</td>\n",
              "      <td>0.037879</td>\n",
              "    </tr>\n",
              "    <tr>\n",
              "      <th>1</th>\n",
              "      <td>tr</td>\n",
              "      <td>isaiah rashad</td>\n",
              "      <td>unk174</td>\n",
              "      <td>Rap</td>\n",
              "      <td>My niggas die for it, she got that pussy juice...</td>\n",
              "      <td>My niggas die for it , she got that pussy juic...</td>\n",
              "      <td>107</td>\n",
              "      <td>44.000000</td>\n",
              "      <td>21</td>\n",
              "      <td>8</td>\n",
              "      <td>5</td>\n",
              "      <td>16</td>\n",
              "      <td>0.018349</td>\n",
              "    </tr>\n",
              "    <tr>\n",
              "      <th>2</th>\n",
              "      <td>tr</td>\n",
              "      <td>jamie lawson</td>\n",
              "      <td>a darkness</td>\n",
              "      <td>Pop</td>\n",
              "      <td>there 's a darkness in between us , a darkness...</td>\n",
              "      <td>there 's a darkness in between us , a darkness...</td>\n",
              "      <td>363</td>\n",
              "      <td>117.000000</td>\n",
              "      <td>61</td>\n",
              "      <td>21</td>\n",
              "      <td>14</td>\n",
              "      <td>27</td>\n",
              "      <td>0.003390</td>\n",
              "    </tr>\n",
              "    <tr>\n",
              "      <th>3</th>\n",
              "      <td>tr</td>\n",
              "      <td>aap rock</td>\n",
              "      <td>unk83</td>\n",
              "      <td>Rap</td>\n",
              "      <td>Tell me why these little niggas talking like t...</td>\n",
              "      <td>Tell me why these little niggas talking like t...</td>\n",
              "      <td>110</td>\n",
              "      <td>19.000000</td>\n",
              "      <td>12</td>\n",
              "      <td>6</td>\n",
              "      <td>3</td>\n",
              "      <td>20</td>\n",
              "      <td>0.039604</td>\n",
              "    </tr>\n",
              "    <tr>\n",
              "      <th>4</th>\n",
              "      <td>tr</td>\n",
              "      <td>pointer sisters, the</td>\n",
              "      <td>shut up and dance</td>\n",
              "      <td>Pop</td>\n",
              "      <td>hey you , you wanna dance ? , all i want to do...</td>\n",
              "      <td>hey you , you wanna dance ? , all i want to do...</td>\n",
              "      <td>508</td>\n",
              "      <td>15.538462</td>\n",
              "      <td>74</td>\n",
              "      <td>39</td>\n",
              "      <td>29</td>\n",
              "      <td>23</td>\n",
              "      <td>0.044855</td>\n",
              "    </tr>\n",
              "  </tbody>\n",
              "</table>\n",
              "</div>"
            ],
            "text/plain": [
              "  subset                author                song genre  \\\n",
              "0     tr             bob dylan  Black Cross (Live)  Folk   \n",
              "1     tr         isaiah rashad              unk174   Rap   \n",
              "2     tr          jamie lawson          a darkness   Pop   \n",
              "3     tr              aap rock               unk83   Rap   \n",
              "4     tr  pointer sisters, the   shut up and dance   Pop   \n",
              "\n",
              "                                              lyrics  \\\n",
              "0  This is the story of Hezekiah Jones...\\n\\nHeze...   \n",
              "1  My niggas die for it, she got that pussy juice...   \n",
              "2  there 's a darkness in between us , a darkness...   \n",
              "3  Tell me why these little niggas talking like t...   \n",
              "4  hey you , you wanna dance ? , all i want to do...   \n",
              "\n",
              "                                           tokenized  length  tree_depth  \\\n",
              "0  This is the story of Hezekiah Jones ... \\n\\n H...     144    8.000000   \n",
              "1  My niggas die for it , she got that pussy juic...     107   44.000000   \n",
              "2  there 's a darkness in between us , a darkness...     363  117.000000   \n",
              "3  Tell me why these little niggas talking like t...     110   19.000000   \n",
              "4  hey you , you wanna dance ? , all i want to do...     508   15.538462   \n",
              "\n",
              "   NOUN  VERB  ADJ  PRON  ne_ratio  \n",
              "0    12     2    8    19  0.037879  \n",
              "1    21     8    5    16  0.018349  \n",
              "2    61    21   14    27  0.003390  \n",
              "3    12     6    3    20  0.039604  \n",
              "4    74    39   29    23  0.044855  "
            ]
          },
          "metadata": {
            "tags": []
          },
          "execution_count": 15
        }
      ]
    },
    {
      "cell_type": "markdown",
      "metadata": {
        "id": "XFMBvGM_8HL_"
      },
      "source": [
        "## 4-5. Type-token & N-gram ratio"
      ]
    },
    {
      "cell_type": "code",
      "metadata": {
        "id": "wcAGCddL8HMA"
      },
      "source": [
        "from nltk.stem import WordNetLemmatizer\n",
        "from nltk import ngrams\n",
        "from string import punctuation\n",
        "\n",
        "wnl = WordNetLemmatizer()"
      ],
      "execution_count": null,
      "outputs": []
    },
    {
      "cell_type": "code",
      "metadata": {
        "id": "4CWSum1A8HMA"
      },
      "source": [
        "def count_token_ratio(text: list) -> float:\n",
        "    \"\"\"\n",
        "    Counts a ratio of unique words \n",
        "    :param list text: a list of words in a song's text\n",
        "    :return float: a type-token ratio for this text\n",
        "    \"\"\"\n",
        "    length = len(text)\n",
        "    unique_length = len(set(text))\n",
        "    ratio = unique_length/length\n",
        "    return ratio"
      ],
      "execution_count": null,
      "outputs": []
    },
    {
      "cell_type": "code",
      "metadata": {
        "id": "lNJhdZBs8HMB"
      },
      "source": [
        "def count_ngram(text: list) -> float:\n",
        "    \"\"\"\n",
        "    Counts a ratio of unique n-grams,\n",
        "    where n <= 3\n",
        "    :param list text: a list of words in a song's text\n",
        "    :return float: a type-token ratio for n-grams\n",
        "    \"\"\"\n",
        "    bigrams = list(ngrams(text, 2))\n",
        "    trigrams = list(ngrams(text, 3))\n",
        "    tokens = text + bigrams + trigrams\n",
        "    unique = len(set(tokens))\n",
        "    length = len(tokens)\n",
        "    return unique/length"
      ],
      "execution_count": null,
      "outputs": []
    },
    {
      "cell_type": "code",
      "metadata": {
        "id": "JKNhhj_L8HMB"
      },
      "source": [
        "ratio = []\n",
        "ngrams_ratio = []"
      ],
      "execution_count": null,
      "outputs": []
    },
    {
      "cell_type": "code",
      "metadata": {
        "colab": {
          "referenced_widgets": [
            "73a3e692ea59400b932ad3a8046c42c9"
          ]
        },
        "id": "4FyR_G1K8HMB",
        "outputId": "fb14a1dc-19dd-4046-864f-513dcb25bfd2"
      },
      "source": [
        "for ind, song in tqdm(data.iterrows(), total=len(data)):\n",
        "    text = [wnl.lemmatize(w) for w in song['tokenized'].split() if w not in punctuation]  # get text lemmatized\n",
        "    ratio.append(count_token_ratio(text))  # a list with type-token ratio for tokens\n",
        "    ngrams_ratio.append(count_ngram(text)) # a list with type-token ratio for n-grams"
      ],
      "execution_count": null,
      "outputs": [
        {
          "output_type": "display_data",
          "data": {
            "application/vnd.jupyter.widget-view+json": {
              "model_id": "73a3e692ea59400b932ad3a8046c42c9",
              "version_major": 2,
              "version_minor": 0
            },
            "text/plain": [
              "HBox(children=(FloatProgress(value=0.0, max=20582.0), HTML(value='')))"
            ]
          },
          "metadata": {
            "tags": []
          }
        },
        {
          "output_type": "stream",
          "text": [
            "\n"
          ],
          "name": "stdout"
        }
      ]
    },
    {
      "cell_type": "code",
      "metadata": {
        "id": "FsSDzAl38HMC"
      },
      "source": [
        "data['type_token'] = ratio\n",
        "data['ngram_ratio'] = ngrams_ratio"
      ],
      "execution_count": null,
      "outputs": []
    },
    {
      "cell_type": "code",
      "metadata": {
        "id": "Svuo_7mu8HMD",
        "outputId": "981b1a29-7d80-4932-9cd1-b1e05dcac19a"
      },
      "source": [
        "# dataframe with new features\r\n",
        "data.head()"
      ],
      "execution_count": null,
      "outputs": [
        {
          "output_type": "execute_result",
          "data": {
            "text/html": [
              "<div>\n",
              "<style scoped>\n",
              "    .dataframe tbody tr th:only-of-type {\n",
              "        vertical-align: middle;\n",
              "    }\n",
              "\n",
              "    .dataframe tbody tr th {\n",
              "        vertical-align: top;\n",
              "    }\n",
              "\n",
              "    .dataframe thead th {\n",
              "        text-align: right;\n",
              "    }\n",
              "</style>\n",
              "<table border=\"1\" class=\"dataframe\">\n",
              "  <thead>\n",
              "    <tr style=\"text-align: right;\">\n",
              "      <th></th>\n",
              "      <th>subset</th>\n",
              "      <th>author</th>\n",
              "      <th>song</th>\n",
              "      <th>genre</th>\n",
              "      <th>lyrics</th>\n",
              "      <th>tokenized</th>\n",
              "      <th>length</th>\n",
              "      <th>tree_depth</th>\n",
              "      <th>NOUN</th>\n",
              "      <th>VERB</th>\n",
              "      <th>ADJ</th>\n",
              "      <th>PRON</th>\n",
              "      <th>ne_ratio</th>\n",
              "      <th>type_token</th>\n",
              "      <th>ngram_ratio</th>\n",
              "    </tr>\n",
              "  </thead>\n",
              "  <tbody>\n",
              "    <tr>\n",
              "      <th>0</th>\n",
              "      <td>tr</td>\n",
              "      <td>bob dylan</td>\n",
              "      <td>Black Cross (Live)</td>\n",
              "      <td>Folk</td>\n",
              "      <td>This is the story of Hezekiah Jones...\\n\\nHeze...</td>\n",
              "      <td>This is the story of Hezekiah Jones ... \\n\\n H...</td>\n",
              "      <td>144</td>\n",
              "      <td>8.000000</td>\n",
              "      <td>12</td>\n",
              "      <td>2</td>\n",
              "      <td>8</td>\n",
              "      <td>19</td>\n",
              "      <td>0.037879</td>\n",
              "      <td>0.566929</td>\n",
              "      <td>0.809524</td>\n",
              "    </tr>\n",
              "    <tr>\n",
              "      <th>1</th>\n",
              "      <td>tr</td>\n",
              "      <td>isaiah rashad</td>\n",
              "      <td>unk174</td>\n",
              "      <td>Rap</td>\n",
              "      <td>My niggas die for it, she got that pussy juice...</td>\n",
              "      <td>My niggas die for it , she got that pussy juic...</td>\n",
              "      <td>107</td>\n",
              "      <td>44.000000</td>\n",
              "      <td>21</td>\n",
              "      <td>8</td>\n",
              "      <td>5</td>\n",
              "      <td>16</td>\n",
              "      <td>0.018349</td>\n",
              "      <td>0.500000</td>\n",
              "      <td>0.649485</td>\n",
              "    </tr>\n",
              "    <tr>\n",
              "      <th>2</th>\n",
              "      <td>tr</td>\n",
              "      <td>jamie lawson</td>\n",
              "      <td>a darkness</td>\n",
              "      <td>Pop</td>\n",
              "      <td>there 's a darkness in between us , a darkness...</td>\n",
              "      <td>there 's a darkness in between us , a darkness...</td>\n",
              "      <td>363</td>\n",
              "      <td>117.000000</td>\n",
              "      <td>61</td>\n",
              "      <td>21</td>\n",
              "      <td>14</td>\n",
              "      <td>27</td>\n",
              "      <td>0.003390</td>\n",
              "      <td>0.393220</td>\n",
              "      <td>0.603175</td>\n",
              "    </tr>\n",
              "    <tr>\n",
              "      <th>3</th>\n",
              "      <td>tr</td>\n",
              "      <td>aap rock</td>\n",
              "      <td>unk83</td>\n",
              "      <td>Rap</td>\n",
              "      <td>Tell me why these little niggas talking like t...</td>\n",
              "      <td>Tell me why these little niggas talking like t...</td>\n",
              "      <td>110</td>\n",
              "      <td>19.000000</td>\n",
              "      <td>12</td>\n",
              "      <td>6</td>\n",
              "      <td>3</td>\n",
              "      <td>20</td>\n",
              "      <td>0.039604</td>\n",
              "      <td>0.741935</td>\n",
              "      <td>0.898551</td>\n",
              "    </tr>\n",
              "    <tr>\n",
              "      <th>4</th>\n",
              "      <td>tr</td>\n",
              "      <td>pointer sisters, the</td>\n",
              "      <td>shut up and dance</td>\n",
              "      <td>Pop</td>\n",
              "      <td>hey you , you wanna dance ? , all i want to do...</td>\n",
              "      <td>hey you , you wanna dance ? , all i want to do...</td>\n",
              "      <td>508</td>\n",
              "      <td>15.538462</td>\n",
              "      <td>74</td>\n",
              "      <td>39</td>\n",
              "      <td>29</td>\n",
              "      <td>23</td>\n",
              "      <td>0.044855</td>\n",
              "      <td>0.303430</td>\n",
              "      <td>0.489418</td>\n",
              "    </tr>\n",
              "  </tbody>\n",
              "</table>\n",
              "</div>"
            ],
            "text/plain": [
              "  subset                author                song genre  \\\n",
              "0     tr             bob dylan  Black Cross (Live)  Folk   \n",
              "1     tr         isaiah rashad              unk174   Rap   \n",
              "2     tr          jamie lawson          a darkness   Pop   \n",
              "3     tr              aap rock               unk83   Rap   \n",
              "4     tr  pointer sisters, the   shut up and dance   Pop   \n",
              "\n",
              "                                              lyrics  \\\n",
              "0  This is the story of Hezekiah Jones...\\n\\nHeze...   \n",
              "1  My niggas die for it, she got that pussy juice...   \n",
              "2  there 's a darkness in between us , a darkness...   \n",
              "3  Tell me why these little niggas talking like t...   \n",
              "4  hey you , you wanna dance ? , all i want to do...   \n",
              "\n",
              "                                           tokenized  length  tree_depth  \\\n",
              "0  This is the story of Hezekiah Jones ... \\n\\n H...     144    8.000000   \n",
              "1  My niggas die for it , she got that pussy juic...     107   44.000000   \n",
              "2  there 's a darkness in between us , a darkness...     363  117.000000   \n",
              "3  Tell me why these little niggas talking like t...     110   19.000000   \n",
              "4  hey you , you wanna dance ? , all i want to do...     508   15.538462   \n",
              "\n",
              "   NOUN  VERB  ADJ  PRON  ne_ratio  type_token  ngram_ratio  \n",
              "0    12     2    8    19  0.037879    0.566929     0.809524  \n",
              "1    21     8    5    16  0.018349    0.500000     0.649485  \n",
              "2    61    21   14    27  0.003390    0.393220     0.603175  \n",
              "3    12     6    3    20  0.039604    0.741935     0.898551  \n",
              "4    74    39   29    23  0.044855    0.303430     0.489418  "
            ]
          },
          "metadata": {
            "tags": []
          },
          "execution_count": 16
        }
      ]
    },
    {
      "cell_type": "markdown",
      "metadata": {
        "id": "6CI9Mc_U8HME"
      },
      "source": [
        "## 6. Slang"
      ]
    },
    {
      "cell_type": "code",
      "metadata": {
        "id": "jgDJvyUR8HME",
        "outputId": "ecae1aed-3447-417d-90fc-9627b483926d"
      },
      "source": [
        "from nltk.corpus import words\n",
        "nltk.download('words')"
      ],
      "execution_count": null,
      "outputs": [
        {
          "output_type": "stream",
          "text": [
            "[nltk_data] Downloading package words to /Users/katya/nltk_data...\n",
            "[nltk_data]   Package words is already up-to-date!\n"
          ],
          "name": "stderr"
        },
        {
          "output_type": "execute_result",
          "data": {
            "text/plain": [
              "True"
            ]
          },
          "metadata": {
            "tags": []
          },
          "execution_count": 87
        }
      ]
    },
    {
      "cell_type": "code",
      "metadata": {
        "id": "lvJp2s7C8HMF"
      },
      "source": [
        "slang = []"
      ],
      "execution_count": null,
      "outputs": []
    },
    {
      "cell_type": "code",
      "metadata": {
        "id": "HJW5HzyC8HMF",
        "colab": {
          "referenced_widgets": [
            ""
          ]
        },
        "outputId": "88aa367c-cfcd-457f-c8fa-02b5bc0fb252"
      },
      "source": [
        "for ind, song in tqdm(data.iterrows(), total=len(data)):\n",
        "    word_list = set([w for w in song['tokenized'] if w not in punctuation]) # get a set of words in a song\n",
        "    length = len(word_list)\n",
        "    counter = len(set.intersection(word_list, words.words())) # counts how many words are found in NLTK corpora \n",
        "    slang.append(counter/length) # percentage of non-slang words"
      ],
      "execution_count": null,
      "outputs": [
        {
          "output_type": "display_data",
          "data": {
            "application/vnd.jupyter.widget-view+json": {
              "model_id": "",
              "version_major": 2,
              "version_minor": 0
            },
            "text/plain": [
              "HBox(children=(FloatProgress(value=0.0, max=20582.0), HTML(value='')))"
            ]
          },
          "metadata": {
            "tags": []
          }
        }
      ]
    },
    {
      "cell_type": "code",
      "metadata": {
        "id": "pVHrgCQ18HMF"
      },
      "source": [
        "data['slang'] = slang"
      ],
      "execution_count": null,
      "outputs": []
    },
    {
      "cell_type": "code",
      "metadata": {
        "id": "uJBVFymc8HMG",
        "outputId": "263bd2cc-e10a-4783-8b2a-c3d95a6e4869"
      },
      "source": [
        "data.head()"
      ],
      "execution_count": null,
      "outputs": [
        {
          "output_type": "execute_result",
          "data": {
            "text/html": [
              "<div>\n",
              "<style scoped>\n",
              "    .dataframe tbody tr th:only-of-type {\n",
              "        vertical-align: middle;\n",
              "    }\n",
              "\n",
              "    .dataframe tbody tr th {\n",
              "        vertical-align: top;\n",
              "    }\n",
              "\n",
              "    .dataframe thead th {\n",
              "        text-align: right;\n",
              "    }\n",
              "</style>\n",
              "<table border=\"1\" class=\"dataframe\">\n",
              "  <thead>\n",
              "    <tr style=\"text-align: right;\">\n",
              "      <th></th>\n",
              "      <th>subset</th>\n",
              "      <th>author</th>\n",
              "      <th>song</th>\n",
              "      <th>genre</th>\n",
              "      <th>lyrics</th>\n",
              "      <th>tokenized</th>\n",
              "      <th>length</th>\n",
              "      <th>tree_depth</th>\n",
              "      <th>NOUN</th>\n",
              "      <th>VERB</th>\n",
              "      <th>ADJ</th>\n",
              "      <th>PRON</th>\n",
              "      <th>ne_ratio</th>\n",
              "      <th>type_token</th>\n",
              "      <th>ngram_ratio</th>\n",
              "      <th>slang</th>\n",
              "    </tr>\n",
              "  </thead>\n",
              "  <tbody>\n",
              "    <tr>\n",
              "      <th>0</th>\n",
              "      <td>tr</td>\n",
              "      <td>bob dylan</td>\n",
              "      <td>Black Cross (Live)</td>\n",
              "      <td>Folk</td>\n",
              "      <td>This is the story of Hezekiah Jones...\\n\\nHeze...</td>\n",
              "      <td>This is the story of Hezekiah Jones ... \\n\\n H...</td>\n",
              "      <td>144</td>\n",
              "      <td>8.000000</td>\n",
              "      <td>12</td>\n",
              "      <td>2</td>\n",
              "      <td>8</td>\n",
              "      <td>19</td>\n",
              "      <td>0.037879</td>\n",
              "      <td>0.566929</td>\n",
              "      <td>0.809524</td>\n",
              "      <td>0.941176</td>\n",
              "    </tr>\n",
              "    <tr>\n",
              "      <th>1</th>\n",
              "      <td>tr</td>\n",
              "      <td>isaiah rashad</td>\n",
              "      <td>unk174</td>\n",
              "      <td>Rap</td>\n",
              "      <td>My niggas die for it, she got that pussy juice...</td>\n",
              "      <td>My niggas die for it , she got that pussy juic...</td>\n",
              "      <td>107</td>\n",
              "      <td>44.000000</td>\n",
              "      <td>21</td>\n",
              "      <td>8</td>\n",
              "      <td>5</td>\n",
              "      <td>16</td>\n",
              "      <td>0.018349</td>\n",
              "      <td>0.500000</td>\n",
              "      <td>0.649485</td>\n",
              "      <td>0.911765</td>\n",
              "    </tr>\n",
              "    <tr>\n",
              "      <th>2</th>\n",
              "      <td>tr</td>\n",
              "      <td>jamie lawson</td>\n",
              "      <td>a darkness</td>\n",
              "      <td>Pop</td>\n",
              "      <td>there 's a darkness in between us , a darkness...</td>\n",
              "      <td>there 's a darkness in between us , a darkness...</td>\n",
              "      <td>363</td>\n",
              "      <td>117.000000</td>\n",
              "      <td>61</td>\n",
              "      <td>21</td>\n",
              "      <td>14</td>\n",
              "      <td>27</td>\n",
              "      <td>0.003390</td>\n",
              "      <td>0.393220</td>\n",
              "      <td>0.603175</td>\n",
              "      <td>0.956522</td>\n",
              "    </tr>\n",
              "    <tr>\n",
              "      <th>3</th>\n",
              "      <td>tr</td>\n",
              "      <td>aap rock</td>\n",
              "      <td>unk83</td>\n",
              "      <td>Rap</td>\n",
              "      <td>Tell me why these little niggas talking like t...</td>\n",
              "      <td>Tell me why these little niggas talking like t...</td>\n",
              "      <td>110</td>\n",
              "      <td>19.000000</td>\n",
              "      <td>12</td>\n",
              "      <td>6</td>\n",
              "      <td>3</td>\n",
              "      <td>20</td>\n",
              "      <td>0.039604</td>\n",
              "      <td>0.741935</td>\n",
              "      <td>0.898551</td>\n",
              "      <td>0.878049</td>\n",
              "    </tr>\n",
              "    <tr>\n",
              "      <th>4</th>\n",
              "      <td>tr</td>\n",
              "      <td>pointer sisters, the</td>\n",
              "      <td>shut up and dance</td>\n",
              "      <td>Pop</td>\n",
              "      <td>hey you , you wanna dance ? , all i want to do...</td>\n",
              "      <td>hey you , you wanna dance ? , all i want to do...</td>\n",
              "      <td>508</td>\n",
              "      <td>15.538462</td>\n",
              "      <td>74</td>\n",
              "      <td>39</td>\n",
              "      <td>29</td>\n",
              "      <td>23</td>\n",
              "      <td>0.044855</td>\n",
              "      <td>0.303430</td>\n",
              "      <td>0.489418</td>\n",
              "      <td>0.960000</td>\n",
              "    </tr>\n",
              "  </tbody>\n",
              "</table>\n",
              "</div>"
            ],
            "text/plain": [
              "  subset                author                song genre  \\\n",
              "0     tr             bob dylan  Black Cross (Live)  Folk   \n",
              "1     tr         isaiah rashad              unk174   Rap   \n",
              "2     tr          jamie lawson          a darkness   Pop   \n",
              "3     tr              aap rock               unk83   Rap   \n",
              "4     tr  pointer sisters, the   shut up and dance   Pop   \n",
              "\n",
              "                                              lyrics  \\\n",
              "0  This is the story of Hezekiah Jones...\\n\\nHeze...   \n",
              "1  My niggas die for it, she got that pussy juice...   \n",
              "2  there 's a darkness in between us , a darkness...   \n",
              "3  Tell me why these little niggas talking like t...   \n",
              "4  hey you , you wanna dance ? , all i want to do...   \n",
              "\n",
              "                                           tokenized  length  tree_depth  \\\n",
              "0  This is the story of Hezekiah Jones ... \\n\\n H...     144    8.000000   \n",
              "1  My niggas die for it , she got that pussy juic...     107   44.000000   \n",
              "2  there 's a darkness in between us , a darkness...     363  117.000000   \n",
              "3  Tell me why these little niggas talking like t...     110   19.000000   \n",
              "4  hey you , you wanna dance ? , all i want to do...     508   15.538462   \n",
              "\n",
              "   NOUN  VERB  ADJ  PRON  ne_ratio  type_token  ngram_ratio     slang  \n",
              "0    12     2    8    19  0.037879    0.566929     0.809524  0.941176  \n",
              "1    21     8    5    16  0.018349    0.500000     0.649485  0.911765  \n",
              "2    61    21   14    27  0.003390    0.393220     0.603175  0.956522  \n",
              "3    12     6    3    20  0.039604    0.741935     0.898551  0.878049  \n",
              "4    74    39   29    23  0.044855    0.303430     0.489418  0.960000  "
            ]
          },
          "metadata": {
            "tags": []
          },
          "execution_count": 17
        }
      ]
    },
    {
      "cell_type": "markdown",
      "metadata": {
        "id": "zG6oD59o8HMH"
      },
      "source": [
        "## 7-8. Pronouns"
      ]
    },
    {
      "cell_type": "code",
      "metadata": {
        "id": "70w7Aubf8HMH"
      },
      "source": [
        "self_to_nonself_referensing = []\n",
        "first_to_second_person = []"
      ],
      "execution_count": null,
      "outputs": []
    },
    {
      "cell_type": "code",
      "metadata": {
        "id": "GKSh9L7P8HMI",
        "colab": {
          "referenced_widgets": [
            "68f7388b880a4245bff192e744955862"
          ]
        },
        "outputId": "c5c9e071-0609-4371-e6be-4d550efd6340"
      },
      "source": [
        "for text in tqdm(data['tokenized'], total=len(data)):\n",
        "    pronouns = Counter()\n",
        "    for word in text.split():\n",
        "        word = word.lower()\n",
        "        if word == 'i' or word == 'me' or word == 'my' or word == 'mine':\n",
        "            pronouns['first_person_singular'] += 1\n",
        "        if word == 'we' or word == 'us' or word == 'our' or word == 'ours':\n",
        "            pronouns['first_person_plural'] += 1\n",
        "        if word == 'you' or word == 'your' or word == 'yours':\n",
        "            pronouns['second_person'] += 1\n",
        "        if word == 'she' or word == 'her' or word == 'hers':\n",
        "            pronouns['third_person'] += 1\n",
        "        if word == 'he' or word == 'his' or word == 'him':\n",
        "            pronouns['third_person'] += 1\n",
        "        if word == 'it' or word == 'its':\n",
        "            pronouns['third_person'] += 1\n",
        "        if word == 'they' or word == 'their' or word == 'theirs' or word == 'them':\n",
        "            pronouns['third_person'] += 1\n",
        "    first_person_all = pronouns['first_person_singular'] + pronouns['first_person_plural']\n",
        "    notfirst_all = pronouns['second_person'] + pronouns['third_person']\n",
        "    if first_person_all is not 0 and notfirst_all is not 0:\n",
        "        self_to_nonself = first_person_all / notfirst_all\n",
        "    else:\n",
        "        self_to_nonself = 0\n",
        "    self_to_nonself_referensing.append(round(self_to_nonself, 3))\n",
        "    if pronouns['first_person_singular'] is not 0 and pronouns['second_person'] is not 0:\n",
        "        first_to_second = pronouns['first_person_singular'] / pronouns['second_person']\n",
        "    else:\n",
        "        first_to_second = 0\n",
        "    first_to_second_person.append(round(first_to_second, 3))"
      ],
      "execution_count": null,
      "outputs": [
        {
          "output_type": "display_data",
          "data": {
            "application/vnd.jupyter.widget-view+json": {
              "model_id": "68f7388b880a4245bff192e744955862",
              "version_major": 2,
              "version_minor": 0
            },
            "text/plain": [
              "HBox(children=(FloatProgress(value=0.0, max=20582.0), HTML(value='')))"
            ]
          },
          "metadata": {
            "tags": []
          }
        },
        {
          "output_type": "stream",
          "text": [
            "\n"
          ],
          "name": "stdout"
        }
      ]
    },
    {
      "cell_type": "code",
      "metadata": {
        "id": "hCxCWduc8HMJ"
      },
      "source": [
        "data['pron_self'] = self_to_nonself_referensing\n",
        "data['pron_first_second'] = first_to_second_person"
      ],
      "execution_count": null,
      "outputs": []
    },
    {
      "cell_type": "code",
      "metadata": {
        "id": "nQHBewYK8HMJ",
        "outputId": "0319a866-a0d2-4f78-db04-329d298044aa"
      },
      "source": [
        "data.head()"
      ],
      "execution_count": null,
      "outputs": [
        {
          "output_type": "execute_result",
          "data": {
            "text/html": [
              "<div>\n",
              "<style scoped>\n",
              "    .dataframe tbody tr th:only-of-type {\n",
              "        vertical-align: middle;\n",
              "    }\n",
              "\n",
              "    .dataframe tbody tr th {\n",
              "        vertical-align: top;\n",
              "    }\n",
              "\n",
              "    .dataframe thead th {\n",
              "        text-align: right;\n",
              "    }\n",
              "</style>\n",
              "<table border=\"1\" class=\"dataframe\">\n",
              "  <thead>\n",
              "    <tr style=\"text-align: right;\">\n",
              "      <th></th>\n",
              "      <th>subset</th>\n",
              "      <th>author</th>\n",
              "      <th>song</th>\n",
              "      <th>genre</th>\n",
              "      <th>lyrics</th>\n",
              "      <th>tokenized</th>\n",
              "      <th>length</th>\n",
              "      <th>tree_depth</th>\n",
              "      <th>NOUN</th>\n",
              "      <th>VERB</th>\n",
              "      <th>ADJ</th>\n",
              "      <th>PRON</th>\n",
              "      <th>ne_ratio</th>\n",
              "      <th>type_token</th>\n",
              "      <th>ngram_ratio</th>\n",
              "      <th>slang</th>\n",
              "      <th>pron_self</th>\n",
              "      <th>pron_first_second</th>\n",
              "    </tr>\n",
              "  </thead>\n",
              "  <tbody>\n",
              "    <tr>\n",
              "      <th>0</th>\n",
              "      <td>tr</td>\n",
              "      <td>bob dylan</td>\n",
              "      <td>Black Cross (Live)</td>\n",
              "      <td>Folk</td>\n",
              "      <td>This is the story of Hezekiah Jones...\\n\\nHeze...</td>\n",
              "      <td>This is the story of Hezekiah Jones ... \\n\\n H...</td>\n",
              "      <td>144</td>\n",
              "      <td>8.000000</td>\n",
              "      <td>12</td>\n",
              "      <td>2</td>\n",
              "      <td>8</td>\n",
              "      <td>19</td>\n",
              "      <td>0.037879</td>\n",
              "      <td>0.566929</td>\n",
              "      <td>0.809524</td>\n",
              "      <td>0.941176</td>\n",
              "      <td>0.053</td>\n",
              "      <td>0.000</td>\n",
              "    </tr>\n",
              "    <tr>\n",
              "      <th>1</th>\n",
              "      <td>tr</td>\n",
              "      <td>isaiah rashad</td>\n",
              "      <td>unk174</td>\n",
              "      <td>Rap</td>\n",
              "      <td>My niggas die for it, she got that pussy juice...</td>\n",
              "      <td>My niggas die for it , she got that pussy juic...</td>\n",
              "      <td>107</td>\n",
              "      <td>44.000000</td>\n",
              "      <td>21</td>\n",
              "      <td>8</td>\n",
              "      <td>5</td>\n",
              "      <td>16</td>\n",
              "      <td>0.018349</td>\n",
              "      <td>0.500000</td>\n",
              "      <td>0.649485</td>\n",
              "      <td>0.911765</td>\n",
              "      <td>0.800</td>\n",
              "      <td>4.000</td>\n",
              "    </tr>\n",
              "    <tr>\n",
              "      <th>2</th>\n",
              "      <td>tr</td>\n",
              "      <td>jamie lawson</td>\n",
              "      <td>a darkness</td>\n",
              "      <td>Pop</td>\n",
              "      <td>there 's a darkness in between us , a darkness...</td>\n",
              "      <td>there 's a darkness in between us , a darkness...</td>\n",
              "      <td>363</td>\n",
              "      <td>117.000000</td>\n",
              "      <td>61</td>\n",
              "      <td>21</td>\n",
              "      <td>14</td>\n",
              "      <td>27</td>\n",
              "      <td>0.003390</td>\n",
              "      <td>0.393220</td>\n",
              "      <td>0.603175</td>\n",
              "      <td>0.956522</td>\n",
              "      <td>1.000</td>\n",
              "      <td>1.000</td>\n",
              "    </tr>\n",
              "    <tr>\n",
              "      <th>3</th>\n",
              "      <td>tr</td>\n",
              "      <td>aap rock</td>\n",
              "      <td>unk83</td>\n",
              "      <td>Rap</td>\n",
              "      <td>Tell me why these little niggas talking like t...</td>\n",
              "      <td>Tell me why these little niggas talking like t...</td>\n",
              "      <td>110</td>\n",
              "      <td>19.000000</td>\n",
              "      <td>12</td>\n",
              "      <td>6</td>\n",
              "      <td>3</td>\n",
              "      <td>20</td>\n",
              "      <td>0.039604</td>\n",
              "      <td>0.741935</td>\n",
              "      <td>0.898551</td>\n",
              "      <td>0.878049</td>\n",
              "      <td>0.727</td>\n",
              "      <td>2.667</td>\n",
              "    </tr>\n",
              "    <tr>\n",
              "      <th>4</th>\n",
              "      <td>tr</td>\n",
              "      <td>pointer sisters, the</td>\n",
              "      <td>shut up and dance</td>\n",
              "      <td>Pop</td>\n",
              "      <td>hey you , you wanna dance ? , all i want to do...</td>\n",
              "      <td>hey you , you wanna dance ? , all i want to do...</td>\n",
              "      <td>508</td>\n",
              "      <td>15.538462</td>\n",
              "      <td>74</td>\n",
              "      <td>39</td>\n",
              "      <td>29</td>\n",
              "      <td>23</td>\n",
              "      <td>0.044855</td>\n",
              "      <td>0.303430</td>\n",
              "      <td>0.489418</td>\n",
              "      <td>0.960000</td>\n",
              "      <td>1.294</td>\n",
              "      <td>2.000</td>\n",
              "    </tr>\n",
              "  </tbody>\n",
              "</table>\n",
              "</div>"
            ],
            "text/plain": [
              "  subset                author                song genre  \\\n",
              "0     tr             bob dylan  Black Cross (Live)  Folk   \n",
              "1     tr         isaiah rashad              unk174   Rap   \n",
              "2     tr          jamie lawson          a darkness   Pop   \n",
              "3     tr              aap rock               unk83   Rap   \n",
              "4     tr  pointer sisters, the   shut up and dance   Pop   \n",
              "\n",
              "                                              lyrics  \\\n",
              "0  This is the story of Hezekiah Jones...\\n\\nHeze...   \n",
              "1  My niggas die for it, she got that pussy juice...   \n",
              "2  there 's a darkness in between us , a darkness...   \n",
              "3  Tell me why these little niggas talking like t...   \n",
              "4  hey you , you wanna dance ? , all i want to do...   \n",
              "\n",
              "                                           tokenized  length  tree_depth  \\\n",
              "0  This is the story of Hezekiah Jones ... \\n\\n H...     144    8.000000   \n",
              "1  My niggas die for it , she got that pussy juic...     107   44.000000   \n",
              "2  there 's a darkness in between us , a darkness...     363  117.000000   \n",
              "3  Tell me why these little niggas talking like t...     110   19.000000   \n",
              "4  hey you , you wanna dance ? , all i want to do...     508   15.538462   \n",
              "\n",
              "   NOUN  VERB  ADJ  PRON  ne_ratio  type_token  ngram_ratio     slang  \\\n",
              "0    12     2    8    19  0.037879    0.566929     0.809524  0.941176   \n",
              "1    21     8    5    16  0.018349    0.500000     0.649485  0.911765   \n",
              "2    61    21   14    27  0.003390    0.393220     0.603175  0.956522   \n",
              "3    12     6    3    20  0.039604    0.741935     0.898551  0.878049   \n",
              "4    74    39   29    23  0.044855    0.303430     0.489418  0.960000   \n",
              "\n",
              "   pron_self  pron_first_second  \n",
              "0      0.053              0.000  \n",
              "1      0.800              4.000  \n",
              "2      1.000              1.000  \n",
              "3      0.727              2.667  \n",
              "4      1.294              2.000  "
            ]
          },
          "metadata": {
            "tags": []
          },
          "execution_count": 18
        }
      ]
    },
    {
      "cell_type": "markdown",
      "metadata": {
        "id": "b8ChOa8I8HMK"
      },
      "source": [
        "## 9-10. Length features\n",
        "- lyrics' length in words\n",
        "- mean line length of each song"
      ]
    },
    {
      "cell_type": "code",
      "metadata": {
        "id": "obiiweNk8HMK"
      },
      "source": [
        "from statistics import mean\n",
        "tt = str.maketrans(dict.fromkeys(punctuation))"
      ],
      "execution_count": null,
      "outputs": []
    },
    {
      "cell_type": "code",
      "metadata": {
        "id": "tsZ92Lx58HMK"
      },
      "source": [
        "length_in_words = []  # List for lengths"
      ],
      "execution_count": null,
      "outputs": []
    },
    {
      "cell_type": "code",
      "metadata": {
        "colab": {
          "referenced_widgets": [
            "6d11fe40a25f4a7494a7f426ed7bd9ab"
          ]
        },
        "id": "BXejd6Gd8HMK",
        "outputId": "fe073586-6e63-4c64-b672-0478192a4f66"
      },
      "source": [
        "for text in tqdm(data['tokenized']):  # For each tokenized song\n",
        "    text_without_punc = text.translate(tt)  # Remove punctuation\n",
        "    best_text = text_without_punc.replace(' \\n', '').split(' ')  # Split into tokens\n",
        "    for thing in best_text:\n",
        "        if thing == '':\n",
        "            best_text.remove(thing)\n",
        "    word_count = len(best_text)  # Count length\n",
        "    length_in_words.append(word_count)"
      ],
      "execution_count": null,
      "outputs": [
        {
          "output_type": "display_data",
          "data": {
            "application/vnd.jupyter.widget-view+json": {
              "model_id": "6d11fe40a25f4a7494a7f426ed7bd9ab",
              "version_major": 2,
              "version_minor": 0
            },
            "text/plain": [
              "HBox(children=(FloatProgress(value=0.0, max=20582.0), HTML(value='')))"
            ]
          },
          "metadata": {
            "tags": []
          }
        },
        {
          "output_type": "stream",
          "text": [
            "\n"
          ],
          "name": "stdout"
        }
      ]
    },
    {
      "cell_type": "code",
      "metadata": {
        "id": "XMXpWimR8HML"
      },
      "source": [
        "data['words_length'] = length_in_words  # Update the dataset"
      ],
      "execution_count": null,
      "outputs": []
    },
    {
      "cell_type": "code",
      "metadata": {
        "id": "wjiOOZsi8HML"
      },
      "source": [
        "string_mean_length = []  # List for average number of tokens in line"
      ],
      "execution_count": null,
      "outputs": []
    },
    {
      "cell_type": "code",
      "metadata": {
        "colab": {
          "referenced_widgets": [
            "703156ff449e4514a34c77600e70bb67"
          ]
        },
        "id": "SeYyzM2i8HMM",
        "outputId": "57216cd6-9f34-4954-adf9-d68bb985cccb"
      },
      "source": [
        "for text in tqdm(data['tokenized']):  # For each tokenized song\n",
        "    string_length = []\n",
        "    # Preprocess\n",
        "    text.replace(' \\' ', '')\n",
        "    if ' \\n' in text:\n",
        "        splited_text = text.split(' \\n ')\n",
        "    else:\n",
        "        splited_text = text.split(' , ')\n",
        "    for string in splited_text:\n",
        "        string_without_punc = string.translate(tt)\n",
        "        string_without_punc.replace('\\' ', '')\n",
        "        splited_string = string_without_punc.split(' ')\n",
        "    for thing in splited_string:\n",
        "        if thing == '':\n",
        "            splited_string.remove(thing)\n",
        "        word_count = len(splited_string)  # Count length of the line\n",
        "        string_length.append(word_count)  # Add to song lines' lengths\n",
        "    string_mean_length.append(round(mean(string_length), 3))  # Count average line length"
      ],
      "execution_count": null,
      "outputs": [
        {
          "output_type": "display_data",
          "data": {
            "application/vnd.jupyter.widget-view+json": {
              "model_id": "703156ff449e4514a34c77600e70bb67",
              "version_major": 2,
              "version_minor": 0
            },
            "text/plain": [
              "HBox(children=(FloatProgress(value=0.0, max=20582.0), HTML(value='')))"
            ]
          },
          "metadata": {
            "tags": []
          }
        },
        {
          "output_type": "stream",
          "text": [
            "\n"
          ],
          "name": "stdout"
        }
      ]
    },
    {
      "cell_type": "code",
      "metadata": {
        "id": "it7fPiH-8HMM"
      },
      "source": [
        "data['lines_length'] = string_mean_length  # Update the dataset"
      ],
      "execution_count": null,
      "outputs": []
    },
    {
      "cell_type": "code",
      "metadata": {
        "id": "dw2Tv4dB8HMM",
        "outputId": "ff9347b9-59bd-41a1-8c1e-604a5d7a036d"
      },
      "source": [
        "data.head()"
      ],
      "execution_count": null,
      "outputs": [
        {
          "output_type": "execute_result",
          "data": {
            "text/html": [
              "<div>\n",
              "<style scoped>\n",
              "    .dataframe tbody tr th:only-of-type {\n",
              "        vertical-align: middle;\n",
              "    }\n",
              "\n",
              "    .dataframe tbody tr th {\n",
              "        vertical-align: top;\n",
              "    }\n",
              "\n",
              "    .dataframe thead th {\n",
              "        text-align: right;\n",
              "    }\n",
              "</style>\n",
              "<table border=\"1\" class=\"dataframe\">\n",
              "  <thead>\n",
              "    <tr style=\"text-align: right;\">\n",
              "      <th></th>\n",
              "      <th>subset</th>\n",
              "      <th>author</th>\n",
              "      <th>song</th>\n",
              "      <th>genre</th>\n",
              "      <th>lyrics</th>\n",
              "      <th>tokenized</th>\n",
              "      <th>length</th>\n",
              "      <th>tree_depth</th>\n",
              "      <th>NOUN</th>\n",
              "      <th>VERB</th>\n",
              "      <th>ADJ</th>\n",
              "      <th>PRON</th>\n",
              "      <th>ne_ratio</th>\n",
              "      <th>type_token</th>\n",
              "      <th>ngram_ratio</th>\n",
              "      <th>slang</th>\n",
              "      <th>pron_self</th>\n",
              "      <th>pron_first_second</th>\n",
              "      <th>words_length</th>\n",
              "      <th>lines_length</th>\n",
              "    </tr>\n",
              "  </thead>\n",
              "  <tbody>\n",
              "    <tr>\n",
              "      <th>0</th>\n",
              "      <td>tr</td>\n",
              "      <td>bob dylan</td>\n",
              "      <td>Black Cross (Live)</td>\n",
              "      <td>Folk</td>\n",
              "      <td>This is the story of Hezekiah Jones...\\n\\nHeze...</td>\n",
              "      <td>This is the story of Hezekiah Jones ... \\n\\n H...</td>\n",
              "      <td>144</td>\n",
              "      <td>8.000000</td>\n",
              "      <td>12</td>\n",
              "      <td>2</td>\n",
              "      <td>8</td>\n",
              "      <td>19</td>\n",
              "      <td>0.037879</td>\n",
              "      <td>0.566929</td>\n",
              "      <td>0.809524</td>\n",
              "      <td>0.941176</td>\n",
              "      <td>0.053</td>\n",
              "      <td>0.000</td>\n",
              "      <td>124</td>\n",
              "      <td>11.273</td>\n",
              "    </tr>\n",
              "    <tr>\n",
              "      <th>1</th>\n",
              "      <td>tr</td>\n",
              "      <td>isaiah rashad</td>\n",
              "      <td>unk174</td>\n",
              "      <td>Rap</td>\n",
              "      <td>My niggas die for it, she got that pussy juice...</td>\n",
              "      <td>My niggas die for it , she got that pussy juic...</td>\n",
              "      <td>107</td>\n",
              "      <td>44.000000</td>\n",
              "      <td>21</td>\n",
              "      <td>8</td>\n",
              "      <td>5</td>\n",
              "      <td>16</td>\n",
              "      <td>0.018349</td>\n",
              "      <td>0.500000</td>\n",
              "      <td>0.649485</td>\n",
              "      <td>0.911765</td>\n",
              "      <td>0.800</td>\n",
              "      <td>4.000</td>\n",
              "      <td>98</td>\n",
              "      <td>8.167</td>\n",
              "    </tr>\n",
              "    <tr>\n",
              "      <th>2</th>\n",
              "      <td>tr</td>\n",
              "      <td>jamie lawson</td>\n",
              "      <td>a darkness</td>\n",
              "      <td>Pop</td>\n",
              "      <td>there 's a darkness in between us , a darkness...</td>\n",
              "      <td>there 's a darkness in between us , a darkness...</td>\n",
              "      <td>363</td>\n",
              "      <td>117.000000</td>\n",
              "      <td>61</td>\n",
              "      <td>21</td>\n",
              "      <td>14</td>\n",
              "      <td>27</td>\n",
              "      <td>0.003390</td>\n",
              "      <td>0.393220</td>\n",
              "      <td>0.603175</td>\n",
              "      <td>0.956522</td>\n",
              "      <td>1.000</td>\n",
              "      <td>1.000</td>\n",
              "      <td>295</td>\n",
              "      <td>4.470</td>\n",
              "    </tr>\n",
              "    <tr>\n",
              "      <th>3</th>\n",
              "      <td>tr</td>\n",
              "      <td>aap rock</td>\n",
              "      <td>unk83</td>\n",
              "      <td>Rap</td>\n",
              "      <td>Tell me why these little niggas talking like t...</td>\n",
              "      <td>Tell me why these little niggas talking like t...</td>\n",
              "      <td>110</td>\n",
              "      <td>19.000000</td>\n",
              "      <td>12</td>\n",
              "      <td>6</td>\n",
              "      <td>3</td>\n",
              "      <td>20</td>\n",
              "      <td>0.039604</td>\n",
              "      <td>0.741935</td>\n",
              "      <td>0.898551</td>\n",
              "      <td>0.878049</td>\n",
              "      <td>0.727</td>\n",
              "      <td>2.667</td>\n",
              "      <td>93</td>\n",
              "      <td>10.333</td>\n",
              "    </tr>\n",
              "    <tr>\n",
              "      <th>4</th>\n",
              "      <td>tr</td>\n",
              "      <td>pointer sisters, the</td>\n",
              "      <td>shut up and dance</td>\n",
              "      <td>Pop</td>\n",
              "      <td>hey you , you wanna dance ? , all i want to do...</td>\n",
              "      <td>hey you , you wanna dance ? , all i want to do...</td>\n",
              "      <td>508</td>\n",
              "      <td>15.538462</td>\n",
              "      <td>74</td>\n",
              "      <td>39</td>\n",
              "      <td>29</td>\n",
              "      <td>23</td>\n",
              "      <td>0.044855</td>\n",
              "      <td>0.303430</td>\n",
              "      <td>0.489418</td>\n",
              "      <td>0.960000</td>\n",
              "      <td>1.294</td>\n",
              "      <td>2.000</td>\n",
              "      <td>396</td>\n",
              "      <td>3.907</td>\n",
              "    </tr>\n",
              "  </tbody>\n",
              "</table>\n",
              "</div>"
            ],
            "text/plain": [
              "  subset                author                song genre  \\\n",
              "0     tr             bob dylan  Black Cross (Live)  Folk   \n",
              "1     tr         isaiah rashad              unk174   Rap   \n",
              "2     tr          jamie lawson          a darkness   Pop   \n",
              "3     tr              aap rock               unk83   Rap   \n",
              "4     tr  pointer sisters, the   shut up and dance   Pop   \n",
              "\n",
              "                                              lyrics  \\\n",
              "0  This is the story of Hezekiah Jones...\\n\\nHeze...   \n",
              "1  My niggas die for it, she got that pussy juice...   \n",
              "2  there 's a darkness in between us , a darkness...   \n",
              "3  Tell me why these little niggas talking like t...   \n",
              "4  hey you , you wanna dance ? , all i want to do...   \n",
              "\n",
              "                                           tokenized  length  tree_depth  \\\n",
              "0  This is the story of Hezekiah Jones ... \\n\\n H...     144    8.000000   \n",
              "1  My niggas die for it , she got that pussy juic...     107   44.000000   \n",
              "2  there 's a darkness in between us , a darkness...     363  117.000000   \n",
              "3  Tell me why these little niggas talking like t...     110   19.000000   \n",
              "4  hey you , you wanna dance ? , all i want to do...     508   15.538462   \n",
              "\n",
              "   NOUN  VERB  ADJ  PRON  ne_ratio  type_token  ngram_ratio     slang  \\\n",
              "0    12     2    8    19  0.037879    0.566929     0.809524  0.941176   \n",
              "1    21     8    5    16  0.018349    0.500000     0.649485  0.911765   \n",
              "2    61    21   14    27  0.003390    0.393220     0.603175  0.956522   \n",
              "3    12     6    3    20  0.039604    0.741935     0.898551  0.878049   \n",
              "4    74    39   29    23  0.044855    0.303430     0.489418  0.960000   \n",
              "\n",
              "   pron_self  pron_first_second  words_length  lines_length  \n",
              "0      0.053              0.000           124        11.273  \n",
              "1      0.800              4.000            98         8.167  \n",
              "2      1.000              1.000           295         4.470  \n",
              "3      0.727              2.667            93        10.333  \n",
              "4      1.294              2.000           396         3.907  "
            ]
          },
          "metadata": {
            "tags": []
          },
          "execution_count": 19
        }
      ]
    },
    {
      "cell_type": "markdown",
      "metadata": {
        "id": "CSOjZ3Bj8HMN"
      },
      "source": [
        "## 11. Swear Words"
      ]
    },
    {
      "cell_type": "code",
      "metadata": {
        "id": "sAJWWQmg8HMN",
        "outputId": "6c5b7b8f-4735-48ae-e693-7019cd8e12f5"
      },
      "source": [
        "! pip install better_profanity"
      ],
      "execution_count": null,
      "outputs": [
        {
          "output_type": "stream",
          "text": [
            "Collecting better_profanity\n",
            "  Downloading better_profanity-0.7.0-py3-none-any.whl (46 kB)\n",
            "\u001b[K     |████████████████████████████████| 46 kB 485 kB/s eta 0:00:01\n",
            "\u001b[?25hInstalling collected packages: better-profanity\n",
            "Successfully installed better-profanity-0.7.0\n"
          ],
          "name": "stdout"
        }
      ]
    },
    {
      "cell_type": "code",
      "metadata": {
        "id": "yTn0tnLP8HMO"
      },
      "source": [
        "from better_profanity import profanity"
      ],
      "execution_count": null,
      "outputs": []
    },
    {
      "cell_type": "code",
      "metadata": {
        "id": "PjQyjfyT8HMO"
      },
      "source": [
        "swears = []  # The list for swear words indicator\n",
        "for text in tqdm(data['lyrics']):  # For each song say wether it contains profanity\n",
        "    swears.append(profanity.contains_profanity(text))\n",
        "data['swear_words'] = swears  # Update the dataset"
      ],
      "execution_count": null,
      "outputs": []
    },
    {
      "cell_type": "code",
      "metadata": {
        "id": "LAz7szg_8HMO",
        "outputId": "50a6a0ed-7ba8-40e0-e350-cae3cc313187"
      },
      "source": [
        "data.head()"
      ],
      "execution_count": null,
      "outputs": [
        {
          "output_type": "execute_result",
          "data": {
            "text/html": [
              "<div>\n",
              "<style scoped>\n",
              "    .dataframe tbody tr th:only-of-type {\n",
              "        vertical-align: middle;\n",
              "    }\n",
              "\n",
              "    .dataframe tbody tr th {\n",
              "        vertical-align: top;\n",
              "    }\n",
              "\n",
              "    .dataframe thead th {\n",
              "        text-align: right;\n",
              "    }\n",
              "</style>\n",
              "<table border=\"1\" class=\"dataframe\">\n",
              "  <thead>\n",
              "    <tr style=\"text-align: right;\">\n",
              "      <th></th>\n",
              "      <th>subset</th>\n",
              "      <th>author</th>\n",
              "      <th>song</th>\n",
              "      <th>genre</th>\n",
              "      <th>lyrics</th>\n",
              "      <th>tokenized</th>\n",
              "      <th>length</th>\n",
              "      <th>tree_depth</th>\n",
              "      <th>NOUN</th>\n",
              "      <th>VERB</th>\n",
              "      <th>...</th>\n",
              "      <th>PRON</th>\n",
              "      <th>ne_ratio</th>\n",
              "      <th>type_token</th>\n",
              "      <th>ngram_ratio</th>\n",
              "      <th>slang</th>\n",
              "      <th>pron_self</th>\n",
              "      <th>pron_first_second</th>\n",
              "      <th>words_length</th>\n",
              "      <th>lines_length</th>\n",
              "      <th>swear_words</th>\n",
              "    </tr>\n",
              "  </thead>\n",
              "  <tbody>\n",
              "    <tr>\n",
              "      <th>0</th>\n",
              "      <td>tr</td>\n",
              "      <td>bob dylan</td>\n",
              "      <td>Black Cross (Live)</td>\n",
              "      <td>Folk</td>\n",
              "      <td>This is the story of Hezekiah Jones...\\n\\nHeze...</td>\n",
              "      <td>This is the story of Hezekiah Jones ... \\n\\n H...</td>\n",
              "      <td>144</td>\n",
              "      <td>8.000000</td>\n",
              "      <td>12</td>\n",
              "      <td>2</td>\n",
              "      <td>...</td>\n",
              "      <td>19</td>\n",
              "      <td>0.037879</td>\n",
              "      <td>0.566929</td>\n",
              "      <td>0.809524</td>\n",
              "      <td>0.941176</td>\n",
              "      <td>0.053</td>\n",
              "      <td>0.000</td>\n",
              "      <td>124</td>\n",
              "      <td>11.273</td>\n",
              "      <td>1</td>\n",
              "    </tr>\n",
              "    <tr>\n",
              "      <th>1</th>\n",
              "      <td>tr</td>\n",
              "      <td>isaiah rashad</td>\n",
              "      <td>unk174</td>\n",
              "      <td>Rap</td>\n",
              "      <td>My niggas die for it, she got that pussy juice...</td>\n",
              "      <td>My niggas die for it , she got that pussy juic...</td>\n",
              "      <td>107</td>\n",
              "      <td>44.000000</td>\n",
              "      <td>21</td>\n",
              "      <td>8</td>\n",
              "      <td>...</td>\n",
              "      <td>16</td>\n",
              "      <td>0.018349</td>\n",
              "      <td>0.500000</td>\n",
              "      <td>0.649485</td>\n",
              "      <td>0.911765</td>\n",
              "      <td>0.800</td>\n",
              "      <td>4.000</td>\n",
              "      <td>98</td>\n",
              "      <td>8.167</td>\n",
              "      <td>1</td>\n",
              "    </tr>\n",
              "    <tr>\n",
              "      <th>2</th>\n",
              "      <td>tr</td>\n",
              "      <td>jamie lawson</td>\n",
              "      <td>a darkness</td>\n",
              "      <td>Pop</td>\n",
              "      <td>there 's a darkness in between us , a darkness...</td>\n",
              "      <td>there 's a darkness in between us , a darkness...</td>\n",
              "      <td>363</td>\n",
              "      <td>117.000000</td>\n",
              "      <td>61</td>\n",
              "      <td>21</td>\n",
              "      <td>...</td>\n",
              "      <td>27</td>\n",
              "      <td>0.003390</td>\n",
              "      <td>0.393220</td>\n",
              "      <td>0.603175</td>\n",
              "      <td>0.956522</td>\n",
              "      <td>1.000</td>\n",
              "      <td>1.000</td>\n",
              "      <td>295</td>\n",
              "      <td>4.470</td>\n",
              "      <td>0</td>\n",
              "    </tr>\n",
              "    <tr>\n",
              "      <th>3</th>\n",
              "      <td>tr</td>\n",
              "      <td>aap rock</td>\n",
              "      <td>unk83</td>\n",
              "      <td>Rap</td>\n",
              "      <td>Tell me why these little niggas talking like t...</td>\n",
              "      <td>Tell me why these little niggas talking like t...</td>\n",
              "      <td>110</td>\n",
              "      <td>19.000000</td>\n",
              "      <td>12</td>\n",
              "      <td>6</td>\n",
              "      <td>...</td>\n",
              "      <td>20</td>\n",
              "      <td>0.039604</td>\n",
              "      <td>0.741935</td>\n",
              "      <td>0.898551</td>\n",
              "      <td>0.878049</td>\n",
              "      <td>0.727</td>\n",
              "      <td>2.667</td>\n",
              "      <td>93</td>\n",
              "      <td>10.333</td>\n",
              "      <td>1</td>\n",
              "    </tr>\n",
              "    <tr>\n",
              "      <th>4</th>\n",
              "      <td>tr</td>\n",
              "      <td>pointer sisters, the</td>\n",
              "      <td>shut up and dance</td>\n",
              "      <td>Pop</td>\n",
              "      <td>hey you , you wanna dance ? , all i want to do...</td>\n",
              "      <td>hey you , you wanna dance ? , all i want to do...</td>\n",
              "      <td>508</td>\n",
              "      <td>15.538462</td>\n",
              "      <td>74</td>\n",
              "      <td>39</td>\n",
              "      <td>...</td>\n",
              "      <td>23</td>\n",
              "      <td>0.044855</td>\n",
              "      <td>0.303430</td>\n",
              "      <td>0.489418</td>\n",
              "      <td>0.960000</td>\n",
              "      <td>1.294</td>\n",
              "      <td>2.000</td>\n",
              "      <td>396</td>\n",
              "      <td>3.907</td>\n",
              "      <td>0</td>\n",
              "    </tr>\n",
              "  </tbody>\n",
              "</table>\n",
              "<p>5 rows × 21 columns</p>\n",
              "</div>"
            ],
            "text/plain": [
              "  subset                author                song genre  \\\n",
              "0     tr             bob dylan  Black Cross (Live)  Folk   \n",
              "1     tr         isaiah rashad              unk174   Rap   \n",
              "2     tr          jamie lawson          a darkness   Pop   \n",
              "3     tr              aap rock               unk83   Rap   \n",
              "4     tr  pointer sisters, the   shut up and dance   Pop   \n",
              "\n",
              "                                              lyrics  \\\n",
              "0  This is the story of Hezekiah Jones...\\n\\nHeze...   \n",
              "1  My niggas die for it, she got that pussy juice...   \n",
              "2  there 's a darkness in between us , a darkness...   \n",
              "3  Tell me why these little niggas talking like t...   \n",
              "4  hey you , you wanna dance ? , all i want to do...   \n",
              "\n",
              "                                           tokenized  length  tree_depth  \\\n",
              "0  This is the story of Hezekiah Jones ... \\n\\n H...     144    8.000000   \n",
              "1  My niggas die for it , she got that pussy juic...     107   44.000000   \n",
              "2  there 's a darkness in between us , a darkness...     363  117.000000   \n",
              "3  Tell me why these little niggas talking like t...     110   19.000000   \n",
              "4  hey you , you wanna dance ? , all i want to do...     508   15.538462   \n",
              "\n",
              "   NOUN  VERB  ...  PRON  ne_ratio  type_token  ngram_ratio     slang  \\\n",
              "0    12     2  ...    19  0.037879    0.566929     0.809524  0.941176   \n",
              "1    21     8  ...    16  0.018349    0.500000     0.649485  0.911765   \n",
              "2    61    21  ...    27  0.003390    0.393220     0.603175  0.956522   \n",
              "3    12     6  ...    20  0.039604    0.741935     0.898551  0.878049   \n",
              "4    74    39  ...    23  0.044855    0.303430     0.489418  0.960000   \n",
              "\n",
              "   pron_self  pron_first_second  words_length  lines_length  swear_words  \n",
              "0      0.053              0.000           124        11.273            1  \n",
              "1      0.800              4.000            98         8.167            1  \n",
              "2      1.000              1.000           295         4.470            0  \n",
              "3      0.727              2.667            93        10.333            1  \n",
              "4      1.294              2.000           396         3.907            0  \n",
              "\n",
              "[5 rows x 21 columns]"
            ]
          },
          "metadata": {
            "tags": []
          },
          "execution_count": 20
        }
      ]
    },
    {
      "cell_type": "markdown",
      "metadata": {
        "id": "EcCo35rY8HMP"
      },
      "source": [
        "## POS Tags update\n",
        "(convert absolute values to percentages)"
      ]
    },
    {
      "cell_type": "code",
      "metadata": {
        "id": "3CmZMsyp8HMP"
      },
      "source": [
        "# We got rid of absolute values\n",
        "# dividing each of POS counts by the total number of words in relevant song\n",
        "\n",
        "data['NOUN'] = data['NOUN'] / data['words_length']\n",
        "data['VERB'] = data['VERB'] / data['words_length']\n",
        "data ['ADJ'] = data['ADJ'] / data['words_length']\n",
        "data['PRON'] = data['PRON'] / data['words_length']"
      ],
      "execution_count": null,
      "outputs": []
    },
    {
      "cell_type": "code",
      "metadata": {
        "id": "XU4KBNFC8HMP",
        "outputId": "5891cb3c-44a4-45d3-e989-a64382f53911"
      },
      "source": [
        "data.head()"
      ],
      "execution_count": null,
      "outputs": [
        {
          "output_type": "execute_result",
          "data": {
            "text/html": [
              "<div>\n",
              "<style scoped>\n",
              "    .dataframe tbody tr th:only-of-type {\n",
              "        vertical-align: middle;\n",
              "    }\n",
              "\n",
              "    .dataframe tbody tr th {\n",
              "        vertical-align: top;\n",
              "    }\n",
              "\n",
              "    .dataframe thead th {\n",
              "        text-align: right;\n",
              "    }\n",
              "</style>\n",
              "<table border=\"1\" class=\"dataframe\">\n",
              "  <thead>\n",
              "    <tr style=\"text-align: right;\">\n",
              "      <th></th>\n",
              "      <th>subset</th>\n",
              "      <th>author</th>\n",
              "      <th>song</th>\n",
              "      <th>genre</th>\n",
              "      <th>lyrics</th>\n",
              "      <th>tokenized</th>\n",
              "      <th>length</th>\n",
              "      <th>tree_depth</th>\n",
              "      <th>NOUN</th>\n",
              "      <th>VERB</th>\n",
              "      <th>...</th>\n",
              "      <th>PRON</th>\n",
              "      <th>ne_ratio</th>\n",
              "      <th>type_token</th>\n",
              "      <th>ngram_ratio</th>\n",
              "      <th>slang</th>\n",
              "      <th>pron_self</th>\n",
              "      <th>pron_first_second</th>\n",
              "      <th>words_length</th>\n",
              "      <th>lines_length</th>\n",
              "      <th>swear_words</th>\n",
              "    </tr>\n",
              "  </thead>\n",
              "  <tbody>\n",
              "    <tr>\n",
              "      <th>0</th>\n",
              "      <td>tr</td>\n",
              "      <td>bob dylan</td>\n",
              "      <td>Black Cross (Live)</td>\n",
              "      <td>Folk</td>\n",
              "      <td>This is the story of Hezekiah Jones...\\n\\nHeze...</td>\n",
              "      <td>This is the story of Hezekiah Jones ... \\n\\n H...</td>\n",
              "      <td>144</td>\n",
              "      <td>8.000000</td>\n",
              "      <td>0.096774</td>\n",
              "      <td>0.016129</td>\n",
              "      <td>...</td>\n",
              "      <td>0.153226</td>\n",
              "      <td>0.037879</td>\n",
              "      <td>0.566929</td>\n",
              "      <td>0.809524</td>\n",
              "      <td>0.941176</td>\n",
              "      <td>0.053</td>\n",
              "      <td>0.000</td>\n",
              "      <td>124</td>\n",
              "      <td>11.273</td>\n",
              "      <td>1</td>\n",
              "    </tr>\n",
              "    <tr>\n",
              "      <th>1</th>\n",
              "      <td>tr</td>\n",
              "      <td>isaiah rashad</td>\n",
              "      <td>unk174</td>\n",
              "      <td>Rap</td>\n",
              "      <td>My niggas die for it, she got that pussy juice...</td>\n",
              "      <td>My niggas die for it , she got that pussy juic...</td>\n",
              "      <td>107</td>\n",
              "      <td>44.000000</td>\n",
              "      <td>0.214286</td>\n",
              "      <td>0.081633</td>\n",
              "      <td>...</td>\n",
              "      <td>0.163265</td>\n",
              "      <td>0.018349</td>\n",
              "      <td>0.500000</td>\n",
              "      <td>0.649485</td>\n",
              "      <td>0.911765</td>\n",
              "      <td>0.800</td>\n",
              "      <td>4.000</td>\n",
              "      <td>98</td>\n",
              "      <td>8.167</td>\n",
              "      <td>1</td>\n",
              "    </tr>\n",
              "    <tr>\n",
              "      <th>2</th>\n",
              "      <td>tr</td>\n",
              "      <td>jamie lawson</td>\n",
              "      <td>a darkness</td>\n",
              "      <td>Pop</td>\n",
              "      <td>there 's a darkness in between us , a darkness...</td>\n",
              "      <td>there 's a darkness in between us , a darkness...</td>\n",
              "      <td>363</td>\n",
              "      <td>117.000000</td>\n",
              "      <td>0.206780</td>\n",
              "      <td>0.071186</td>\n",
              "      <td>...</td>\n",
              "      <td>0.091525</td>\n",
              "      <td>0.003390</td>\n",
              "      <td>0.393220</td>\n",
              "      <td>0.603175</td>\n",
              "      <td>0.956522</td>\n",
              "      <td>1.000</td>\n",
              "      <td>1.000</td>\n",
              "      <td>295</td>\n",
              "      <td>4.470</td>\n",
              "      <td>0</td>\n",
              "    </tr>\n",
              "    <tr>\n",
              "      <th>3</th>\n",
              "      <td>tr</td>\n",
              "      <td>aap rock</td>\n",
              "      <td>unk83</td>\n",
              "      <td>Rap</td>\n",
              "      <td>Tell me why these little niggas talking like t...</td>\n",
              "      <td>Tell me why these little niggas talking like t...</td>\n",
              "      <td>110</td>\n",
              "      <td>19.000000</td>\n",
              "      <td>0.129032</td>\n",
              "      <td>0.064516</td>\n",
              "      <td>...</td>\n",
              "      <td>0.215054</td>\n",
              "      <td>0.039604</td>\n",
              "      <td>0.741935</td>\n",
              "      <td>0.898551</td>\n",
              "      <td>0.878049</td>\n",
              "      <td>0.727</td>\n",
              "      <td>2.667</td>\n",
              "      <td>93</td>\n",
              "      <td>10.333</td>\n",
              "      <td>1</td>\n",
              "    </tr>\n",
              "    <tr>\n",
              "      <th>4</th>\n",
              "      <td>tr</td>\n",
              "      <td>pointer sisters, the</td>\n",
              "      <td>shut up and dance</td>\n",
              "      <td>Pop</td>\n",
              "      <td>hey you , you wanna dance ? , all i want to do...</td>\n",
              "      <td>hey you , you wanna dance ? , all i want to do...</td>\n",
              "      <td>508</td>\n",
              "      <td>15.538462</td>\n",
              "      <td>0.186869</td>\n",
              "      <td>0.098485</td>\n",
              "      <td>...</td>\n",
              "      <td>0.058081</td>\n",
              "      <td>0.044855</td>\n",
              "      <td>0.303430</td>\n",
              "      <td>0.489418</td>\n",
              "      <td>0.960000</td>\n",
              "      <td>1.294</td>\n",
              "      <td>2.000</td>\n",
              "      <td>396</td>\n",
              "      <td>3.907</td>\n",
              "      <td>0</td>\n",
              "    </tr>\n",
              "  </tbody>\n",
              "</table>\n",
              "<p>5 rows × 21 columns</p>\n",
              "</div>"
            ],
            "text/plain": [
              "  subset                author                song genre  \\\n",
              "0     tr             bob dylan  Black Cross (Live)  Folk   \n",
              "1     tr         isaiah rashad              unk174   Rap   \n",
              "2     tr          jamie lawson          a darkness   Pop   \n",
              "3     tr              aap rock               unk83   Rap   \n",
              "4     tr  pointer sisters, the   shut up and dance   Pop   \n",
              "\n",
              "                                              lyrics  \\\n",
              "0  This is the story of Hezekiah Jones...\\n\\nHeze...   \n",
              "1  My niggas die for it, she got that pussy juice...   \n",
              "2  there 's a darkness in between us , a darkness...   \n",
              "3  Tell me why these little niggas talking like t...   \n",
              "4  hey you , you wanna dance ? , all i want to do...   \n",
              "\n",
              "                                           tokenized  length  tree_depth  \\\n",
              "0  This is the story of Hezekiah Jones ... \\n\\n H...     144    8.000000   \n",
              "1  My niggas die for it , she got that pussy juic...     107   44.000000   \n",
              "2  there 's a darkness in between us , a darkness...     363  117.000000   \n",
              "3  Tell me why these little niggas talking like t...     110   19.000000   \n",
              "4  hey you , you wanna dance ? , all i want to do...     508   15.538462   \n",
              "\n",
              "       NOUN      VERB  ...      PRON  ne_ratio  type_token  ngram_ratio  \\\n",
              "0  0.096774  0.016129  ...  0.153226  0.037879    0.566929     0.809524   \n",
              "1  0.214286  0.081633  ...  0.163265  0.018349    0.500000     0.649485   \n",
              "2  0.206780  0.071186  ...  0.091525  0.003390    0.393220     0.603175   \n",
              "3  0.129032  0.064516  ...  0.215054  0.039604    0.741935     0.898551   \n",
              "4  0.186869  0.098485  ...  0.058081  0.044855    0.303430     0.489418   \n",
              "\n",
              "      slang  pron_self  pron_first_second  words_length  lines_length  \\\n",
              "0  0.941176      0.053              0.000           124        11.273   \n",
              "1  0.911765      0.800              4.000            98         8.167   \n",
              "2  0.956522      1.000              1.000           295         4.470   \n",
              "3  0.878049      0.727              2.667            93        10.333   \n",
              "4  0.960000      1.294              2.000           396         3.907   \n",
              "\n",
              "   swear_words  \n",
              "0            1  \n",
              "1            1  \n",
              "2            0  \n",
              "3            1  \n",
              "4            0  \n",
              "\n",
              "[5 rows x 21 columns]"
            ]
          },
          "metadata": {
            "tags": []
          },
          "execution_count": 25
        }
      ]
    },
    {
      "cell_type": "code",
      "metadata": {
        "id": "5AEYIGYr8HMQ"
      },
      "source": [
        "data.to_csv('./data/data.csv', index=False)  # Save the dataset"
      ],
      "execution_count": null,
      "outputs": []
    }
  ]
}